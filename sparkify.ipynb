{
 "cells": [
  {
   "cell_type": "markdown",
   "source": [
    "# Sparkify Data Science Nanodegree Capstone Project\n",
    "\n",
    "* The goal of this data science project is to predict user churn, i.e., identify what causes users to create a subscription or cancel it respectively.\n",
    "* Instead of using the pandas library, we instead use the Apache Spark framework, which is build for big data analysis running on clusters.\n",
    "* The dataset used is only a fraction of the original dataset, which is about 12GB large and stored on AWS S3 (in a first step we use the small dataset; later we'll run this notebook on an AWS EMR Cluster)"
   ],
   "metadata": {
    "collapsed": false
   }
  },
  {
   "cell_type": "markdown",
   "source": [
    "## Ideas on what to Explore\n",
    "\n",
    "* User inactivity: if a user only listens to a handful of songs per month or no songs at all, a cancellation might be likely"
   ],
   "metadata": {
    "collapsed": false
   }
  },
  {
   "cell_type": "code",
   "execution_count": 2,
   "outputs": [],
   "source": [
    "import pandas as pd"
   ],
   "metadata": {
    "collapsed": false
   }
  },
  {
   "cell_type": "code",
   "execution_count": null,
   "outputs": [],
   "source": [],
   "metadata": {
    "collapsed": false
   }
  }
 ],
 "metadata": {
  "kernelspec": {
   "display_name": "Python 3",
   "language": "python",
   "name": "python3"
  },
  "language_info": {
   "codemirror_mode": {
    "name": "ipython",
    "version": 2
   },
   "file_extension": ".py",
   "mimetype": "text/x-python",
   "name": "python",
   "nbconvert_exporter": "python",
   "pygments_lexer": "ipython2",
   "version": "2.7.6"
  }
 },
 "nbformat": 4,
 "nbformat_minor": 0
}
