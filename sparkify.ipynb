{
 "cells": [
  {
   "cell_type": "markdown",
   "metadata": {},
   "source": [
    "# Sparkify Data Science Nanodegree Capstone Project\n",
    "\n",
    "* The goal of this data science project is to predict user churn, i.e., identify what causes users to create a subscription or cancel it respectively.\n",
    "* Instead of using the pandas library, we instead use the Apache Spark framework, which is build for big data analysis running on clusters.\n",
    "* The dataset used is only a fraction of the original dataset, which is about 12GB large and stored on AWS S3 (in a first step we use the small dataset; later we'll run this notebook on an AWS EMR Cluster)"
   ]
  },
  {
   "cell_type": "markdown",
   "metadata": {},
   "source": [
    "# Set up Spark and other Dependencies"
   ]
  },
  {
   "cell_type": "code",
   "execution_count": 2,
   "metadata": {},
   "outputs": [],
   "source": [
    "from pyspark.sql import SparkSession\n",
    "from pyspark.sql.functions import udf, split, trim, expr, datediff, from_unixtime\n",
    "\n",
    "from pyspark.ml.feature import RegexTokenizer, CountVectorizer, \\\n",
    "    IDF, StringIndexer\n",
    "\n",
    "import datetime\n",
    "import pandas as pd\n",
    "import matplotlib.pyplot as plt\n",
    "import seaborn as sns\n",
    "sns.set_theme()"
   ]
  },
  {
   "cell_type": "code",
   "execution_count": 4,
   "metadata": {},
   "outputs": [],
   "source": [
    "spark = SparkSession \\\n",
    "    .builder \\\n",
    "    .appName(\"sparkify\") \\\n",
    "    .getOrCreate()"
   ]
  },
  {
   "cell_type": "code",
   "execution_count": 5,
   "metadata": {},
   "outputs": [
    {
     "data": {
      "text/html": [
       "\n",
       "            <div>\n",
       "                <p><b>SparkSession - in-memory</b></p>\n",
       "                \n",
       "        <div>\n",
       "            <p><b>SparkContext</b></p>\n",
       "\n",
       "            <p><a href=\"http://tims-mbp:4040\">Spark UI</a></p>\n",
       "\n",
       "            <dl>\n",
       "              <dt>Version</dt>\n",
       "                <dd><code>v3.3.2</code></dd>\n",
       "              <dt>Master</dt>\n",
       "                <dd><code>local[*]</code></dd>\n",
       "              <dt>AppName</dt>\n",
       "                <dd><code>sparkify</code></dd>\n",
       "            </dl>\n",
       "        </div>\n",
       "        \n",
       "            </div>\n",
       "        "
      ],
      "text/plain": [
       "<pyspark.sql.session.SparkSession at 0x294206cb0>"
      ]
     },
     "execution_count": 5,
     "metadata": {},
     "output_type": "execute_result"
    }
   ],
   "source": [
    "spark"
   ]
  },
  {
   "cell_type": "code",
   "execution_count": 183,
   "metadata": {},
   "outputs": [],
   "source": [
    "path = \"mini_sparkify_event_data.json\"\n",
    "user_log = spark.read.json(path)"
   ]
  },
  {
   "cell_type": "markdown",
   "metadata": {},
   "source": [
    "Run the cell below to increase width of notebook. Will be needed for SQL data operations."
   ]
  },
  {
   "cell_type": "code",
   "execution_count": 184,
   "metadata": {},
   "outputs": [
    {
     "data": {
      "text/html": [
       "<style>.container { width:90% !important; }</style>"
      ],
      "text/plain": [
       "<IPython.core.display.HTML object>"
      ]
     },
     "metadata": {},
     "output_type": "display_data"
    },
    {
     "data": {
      "text/html": [
       "<style>pre { white-space: pre !important; }</style>"
      ],
      "text/plain": [
       "<IPython.core.display.HTML object>"
      ]
     },
     "metadata": {},
     "output_type": "display_data"
    }
   ],
   "source": [
    "from IPython.display import display, HTML\n",
    "display(HTML(\"<style>.container { width:90% !important; }</style>\"))\n",
    "# display(HTML(\"<style>.output_result { max-width:100% !important; }</style>\"))\n",
    "display(HTML(\"<style>pre { white-space: pre !important; }</style>\"))"
   ]
  },
  {
   "cell_type": "markdown",
   "metadata": {},
   "source": [
    "# Data Exploration\n",
    "\n",
    "To learn more about the users the follwoing questions need to answered:\n",
    "\n",
    "\n",
    "## Who are the Users?\n",
    "\n",
    "* What gender do users have?\n",
    "* Where do they live?\n",
    "* What are their favorite artists/songs?\n",
    "\n",
    "## How do they interact with the Platform?\n",
    "\n",
    "### Platform Usage\n",
    "\n",
    "* How often do they use the platform?\n",
    "* Do users who cancel their subscription don't use the platform or do they and might not like it?\n",
    "* How long is an average session per user?\n",
    "* What devices do they use to access the platform?\n",
    "\n",
    "### Subscription Behavior\n",
    "\n",
    "* How often do users switch their subscription level (paid/free)\n",
    "* Is there a leading indicator that a user might cancel his paid subscriptions, e.g., high count of thumbs down\n",
    "\n"
   ]
  },
  {
   "cell_type": "code",
   "execution_count": 185,
   "metadata": {},
   "outputs": [
    {
     "name": "stdout",
     "output_type": "stream",
     "text": [
      "root\n",
      " |-- artist: string (nullable = true)\n",
      " |-- auth: string (nullable = true)\n",
      " |-- firstName: string (nullable = true)\n",
      " |-- gender: string (nullable = true)\n",
      " |-- itemInSession: long (nullable = true)\n",
      " |-- lastName: string (nullable = true)\n",
      " |-- length: double (nullable = true)\n",
      " |-- level: string (nullable = true)\n",
      " |-- location: string (nullable = true)\n",
      " |-- method: string (nullable = true)\n",
      " |-- page: string (nullable = true)\n",
      " |-- registration: long (nullable = true)\n",
      " |-- sessionId: long (nullable = true)\n",
      " |-- song: string (nullable = true)\n",
      " |-- status: long (nullable = true)\n",
      " |-- ts: long (nullable = true)\n",
      " |-- userAgent: string (nullable = true)\n",
      " |-- userId: string (nullable = true)\n",
      "\n"
     ]
    }
   ],
   "source": [
    "user_log.printSchema()"
   ]
  },
  {
   "cell_type": "code",
   "execution_count": 186,
   "metadata": {},
   "outputs": [
    {
     "data": {
      "text/plain": [
       "Row(artist='Martha Tilston', auth='Logged In', firstName='Colin', gender='M', itemInSession=50, lastName='Freeman', length=277.89016, level='paid', location='Bakersfield, CA', method='PUT', page='NextSong', registration=1538173362000, sessionId=29, song='Rockpools', status=200, ts=1538352117000, userAgent='Mozilla/5.0 (Windows NT 6.1; WOW64; rv:31.0) Gecko/20100101 Firefox/31.0', userId='30')"
      ]
     },
     "execution_count": 186,
     "metadata": {},
     "output_type": "execute_result"
    }
   ],
   "source": [
    "user_log.head()"
   ]
  },
  {
   "cell_type": "markdown",
   "metadata": {},
   "source": [
    "The timestamp format is not in a readable format. By creating the user defined function `get_datetime` and applying this function onto the ts column we obtain the dateTime column which has a convenient format"
   ]
  },
  {
   "cell_type": "code",
   "execution_count": 187,
   "metadata": {},
   "outputs": [],
   "source": [
    "# get_datetime = udf(lambda x: datetime.datetime.fromtimestamp(x / 1000.0).strftime(\"%Y-%m-%d %H:%M:%S\"))\n",
    "\n",
    "# user_log = user_log.withColumn(\"ts_iso\", get_datetime(user_log.ts)) \\\n",
    "#             .withColumn(\"registration_iso\", get_datetime(user_log.registration))\n",
    "\n",
    "# use pysparks built-in function to handel unix timestamps (divide by 1000 to convert from milliseconds)\n",
    "user_log = user_log.withColumn(\"ts_iso\", from_unixtime(user_log.ts/1000)) \\\n",
    "                .withColumn(\"registration_iso\", from_unixtime(user_log.registration/1000))"
   ]
  },
  {
   "cell_type": "markdown",
   "metadata": {},
   "source": [
    "The location column contains both city and state, we want to isolate both of them into seperate columns"
   ]
  },
  {
   "cell_type": "code",
   "execution_count": 188,
   "metadata": {},
   "outputs": [],
   "source": [
    "user_log = user_log.withColumn('city', trim(split(user_log['location'], ',').getItem(0))) \\\n",
    "            .withColumn('state', trim(split(user_log['location'], ',').getItem(1)))"
   ]
  },
  {
   "cell_type": "markdown",
   "metadata": {},
   "source": [
    "The userAgent columns contains information about which end-device was used to access the platform. Therfore it is usefull to learn something about the platform's users"
   ]
  },
  {
   "cell_type": "code",
   "execution_count": 189,
   "metadata": {},
   "outputs": [],
   "source": [
    "user_log = user_log.withColumn('userDevice', expr(\"CASE WHEN lower(userAgent) LIKE '%windows%' THEN 'pc'\"+\n",
    "                                       \"WHEN lower(userAgent) LIKE '%macintosh%' THEN 'mac'\" +\n",
    "                                        \"WHEN lower(userAgent) LIKE '%linux%' THEN 'pc'\" +\n",
    "                                        \"WHEN lower(userAgent) LIKE '%iphone%' THEN 'mobile'\" +\n",
    "                                        \"WHEN lower(userAgent) LIKE '%ipad%' THEN 'mobile'\" +\n",
    "                                        \"ELSE 'other'\" +\n",
    "                                        \"END\"))"
   ]
  },
  {
   "cell_type": "code",
   "execution_count": 190,
   "metadata": {},
   "outputs": [
    {
     "data": {
      "text/plain": [
       "Row(artist='Martha Tilston', auth='Logged In', firstName='Colin', gender='M', itemInSession=50, lastName='Freeman', length=277.89016, level='paid', location='Bakersfield, CA', method='PUT', page='NextSong', registration=1538173362000, sessionId=29, song='Rockpools', status=200, ts=1538352117000, userAgent='Mozilla/5.0 (Windows NT 6.1; WOW64; rv:31.0) Gecko/20100101 Firefox/31.0', userId='30', ts_iso='2018-10-01 02:01:57', registration_iso='2018-09-29 00:22:42', city='Bakersfield', state='CA', userDevice='pc')"
      ]
     },
     "execution_count": 190,
     "metadata": {},
     "output_type": "execute_result"
    }
   ],
   "source": [
    "user_log.head()"
   ]
  },
  {
   "cell_type": "markdown",
   "metadata": {},
   "source": [
    "Since we are interested in predicting user behavior, actions recorded in the dataset need to be attributed to a userid. For records without a userId we are not able to draw conclusions on the behaviour."
   ]
  },
  {
   "cell_type": "code",
   "execution_count": 191,
   "metadata": {},
   "outputs": [
    {
     "name": "stdout",
     "output_type": "stream",
     "text": [
      "8346 records in the dataset have no userId. They will be dropped\n",
      "0 records in the dataset have no userId.\n"
     ]
    }
   ],
   "source": [
    "print('{} records in the dataset have no userId. They will be dropped'.format(user_log.filter(user_log.userId == '').count()))\n",
    "user_log = user_log.where(user_log.userId != '')\n",
    "print('{} records in the dataset have no userId.'.format(user_log.filter(user_log.userId == '').count()))\n"
   ]
  },
  {
   "cell_type": "markdown",
   "metadata": {},
   "source": [
    "## Leveraging PySpark's SQL Function for Data Exploration"
   ]
  },
  {
   "cell_type": "code",
   "execution_count": 192,
   "metadata": {},
   "outputs": [],
   "source": [
    "# create temporary view against which SQL queries can be run\n",
    "user_log.createOrReplaceTempView(\"user_log_table\")"
   ]
  },
  {
   "cell_type": "markdown",
   "metadata": {},
   "source": [
    "### Create a table that contains user subscription behavior\n",
    "\n",
    "Idea of the query below:\n",
    "\n",
    "1. `errors_tab`\n",
    "    * Assign each entry row number to maintain order of events (have consecutive entries with exact same timestamp)\n",
    "    * Some actions are not realized because an error follows in the logs. Thus if entry $t+1$ has page \"Error\", set a flag for entry $t$ (Note that we want to keep the actual errors themselves, since they might be an indicator for users terminating their subscription, if they encounters a large number of errors during their paid regime)\n",
    "\n",
    "2. `records_tab`\n",
    "    * When level at $t$ is different from $t-1$ a new regime starts. Set a flag\n",
    "    * When level at $t$ is \"paid\" and level at $t+1$ is \"free\", the regime at $t$ is cancelled. Set a flag\n",
    "    * Choose only actions that don't result in errors\n",
    "\n",
    "3. `regime_tab`\n",
    "    * Sum up the flag set in the `records_tab`. Whenever the level changes, the `regime_count` increases by 1\n",
    "\n",
    "4. `regime_dates`\n",
    "    * The `regime_start` in the first regime is per assumption the registration date, as we don't have other data available. In later regimes $n>1$ we'll take the timestamp of the first record of regime $n$\n",
    "    * In the last regime, $N$, the `regime_end` is the max. timestamp in the dataset. Else it's the timestamp of the latest record in the particular regime $n<N$\n",
    "\n",
    "5. Final Result\n",
    "    * Collect the pre-processed data\n",
    "    * Obtain aggregate values per regime\n",
    "\n",
    "**Note:** might want to break the pretabs down into seperate SQL query commands and tables to reduce complexity of statement"
   ]
  },
  {
   "cell_type": "code",
   "execution_count": 193,
   "metadata": {},
   "outputs": [
    {
     "name": "stdout",
     "output_type": "stream",
     "text": [
      "+--------------------+---------+---------+------+-------------+--------+---------+-----+--------------------+------+--------------------+-------------+---------+--------------------+------+-------------+--------------------+------+-------------------+-------------------+--------------------+-----+----------+\n",
      "|              artist|     auth|firstName|gender|itemInSession|lastName|   length|level|            location|method|                page| registration|sessionId|                song|status|           ts|           userAgent|userId|             ts_iso|   registration_iso|                city|state|userDevice|\n",
      "+--------------------+---------+---------+------+-------------+--------+---------+-----+--------------------+------+--------------------+-------------+---------+--------------------+------+-------------+--------------------+------+-------------------+-------------------+--------------------+-----+----------+\n",
      "|                null|Logged In|  Delaney|     F|            0|   Perez|     null| free|Miami-Fort Lauder...|   GET|                Home|1534627466000|        1|                null|   200|1538376504000|\"Mozilla/5.0 (Mac...|100001|2018-10-01 08:48:24|2018-08-18 23:24:26|Miami-Fort Lauder...|   FL|       mac|\n",
      "|Lady GaGa / Colby...|Logged In|  Delaney|     F|            1|   Perez|238.54975| free|Miami-Fort Lauder...|   PUT|            NextSong|1534627466000|        1|          Just Dance|   200|1538376509000|\"Mozilla/5.0 (Mac...|100001|2018-10-01 08:48:29|2018-08-18 23:24:26|Miami-Fort Lauder...|   FL|       mac|\n",
      "|                null|Logged In|  Delaney|     F|            2|   Perez|     null| free|Miami-Fort Lauder...|   GET|         Roll Advert|1534627466000|        1|                null|   200|1538376542000|\"Mozilla/5.0 (Mac...|100001|2018-10-01 08:49:02|2018-08-18 23:24:26|Miami-Fort Lauder...|   FL|       mac|\n",
      "|            Gorillaz|Logged In|  Delaney|     F|            3|   Perez|602.17424| free|Miami-Fort Lauder...|   PUT|            NextSong|1534627466000|        1|Kids With Guns (Q...|   200|1538376747000|\"Mozilla/5.0 (Mac...|100001|2018-10-01 08:52:27|2018-08-18 23:24:26|Miami-Fort Lauder...|   FL|       mac|\n",
      "|                null|Logged In|  Delaney|     F|            4|   Perez|     null| free|Miami-Fort Lauder...|   GET|         Roll Advert|1534627466000|        1|                null|   200|1538376783000|\"Mozilla/5.0 (Mac...|100001|2018-10-01 08:53:03|2018-08-18 23:24:26|Miami-Fort Lauder...|   FL|       mac|\n",
      "|          Far Corner|Logged In|  Delaney|     F|            5|   Perez|  399.882| free|Miami-Fort Lauder...|   PUT|            NextSong|1534627466000|        1|Do You Think I'm ...|   200|1538377349000|\"Mozilla/5.0 (Mac...|100001|2018-10-01 09:02:29|2018-08-18 23:24:26|Miami-Fort Lauder...|   FL|       mac|\n",
      "|    The Replacements|Logged In|  Delaney|     F|            6|   Perez|184.60689| free|Miami-Fort Lauder...|   PUT|            NextSong|1534627466000|        1|Can't Hardly Wait...|   200|1538377748000|\"Mozilla/5.0 (Mac...|100001|2018-10-01 09:09:08|2018-08-18 23:24:26|Miami-Fort Lauder...|   FL|       mac|\n",
      "|            Pendulum|Logged In|  Delaney|     F|            7|   Perez|313.86077| free|Miami-Fort Lauder...|   PUT|            NextSong|1534627466000|        1|  Propane Nightmares|   200|1538377932000|\"Mozilla/5.0 (Mac...|100001|2018-10-01 09:12:12|2018-08-18 23:24:26|Miami-Fort Lauder...|   FL|       mac|\n",
      "|        Tyrone Wells|Logged In|  Delaney|     F|            8|   Perez|238.65424| free|Miami-Fort Lauder...|   PUT|            NextSong|1534627466000|        1|             Falling|   200|1538378245000|\"Mozilla/5.0 (Mac...|100001|2018-10-01 09:17:25|2018-08-18 23:24:26|Miami-Fort Lauder...|   FL|       mac|\n",
      "|        3 Doors Down|Logged In|  Delaney|     F|            9|   Perez|204.32934| free|Miami-Fort Lauder...|   PUT|            NextSong|1534627466000|        1|             Runaway|   200|1538378483000|\"Mozilla/5.0 (Mac...|100001|2018-10-01 09:21:23|2018-08-18 23:24:26|Miami-Fort Lauder...|   FL|       mac|\n",
      "|    The Afghan Whigs|Logged In|  Delaney|     F|           10|   Perez|190.82404| free|Miami-Fort Lauder...|   PUT|            NextSong|1534627466000|        1|            My Enemy|   200|1538378687000|\"Mozilla/5.0 (Mac...|100001|2018-10-01 09:24:47|2018-08-18 23:24:26|Miami-Fort Lauder...|   FL|       mac|\n",
      "|             Misfits|Logged In|  Delaney|     F|           11|   Perez|164.46649| free|Miami-Fort Lauder...|   PUT|            NextSong|1534627466000|        1|Rise Above (Live)...|   200|1538378877000|\"Mozilla/5.0 (Mac...|100001|2018-10-01 09:27:57|2018-08-18 23:24:26|Miami-Fort Lauder...|   FL|       mac|\n",
      "|     Jimmy Eat World|Logged In|  Delaney|     F|           12|   Perez|166.00771| free|Miami-Fort Lauder...|   PUT|            NextSong|1534627466000|        1|          The Middle|   200|1538379041000|\"Mozilla/5.0 (Mac...|100001|2018-10-01 09:30:41|2018-08-18 23:24:26|Miami-Fort Lauder...|   FL|       mac|\n",
      "| Rihanna / Sean Paul|Logged In|  Delaney|     F|           13|   Perez|213.34159| free|Miami-Fort Lauder...|   PUT|            NextSong|1534627466000|        1|        Break It Off|   200|1538379207000|\"Mozilla/5.0 (Mac...|100001|2018-10-01 09:33:27|2018-08-18 23:24:26|Miami-Fort Lauder...|   FL|       mac|\n",
      "|                null|Logged In|  Delaney|     F|           14|   Perez|     null| free|Miami-Fort Lauder...|   GET|         Roll Advert|1534627466000|        1|                null|   200|1538379230000|\"Mozilla/5.0 (Mac...|100001|2018-10-01 09:33:50|2018-08-18 23:24:26|Miami-Fort Lauder...|   FL|       mac|\n",
      "|           LL Cool J|Logged In|  Delaney|     F|           15|   Perez|248.68526| free|Miami-Fort Lauder...|   PUT|            NextSong|1534627466000|        1| Around The Way Girl|   200|1538379420000|\"Mozilla/5.0 (Mac...|100001|2018-10-01 09:37:00|2018-08-18 23:24:26|Miami-Fort Lauder...|   FL|       mac|\n",
      "|          Basshunter|Logged In|  Delaney|     F|           16|   Perez|332.69506| free|Miami-Fort Lauder...|   PUT|            NextSong|1534627466000|        1|   All I Ever Wanted|   200|1538379668000|\"Mozilla/5.0 (Mac...|100001|2018-10-01 09:41:08|2018-08-18 23:24:26|Miami-Fort Lauder...|   FL|       mac|\n",
      "|         Mad Caddies|Logged In|  Delaney|     F|           17|   Perez|179.80036| free|Miami-Fort Lauder...|   PUT|            NextSong|1534627466000|        1|              Leavin|   200|1538380000000|\"Mozilla/5.0 (Mac...|100001|2018-10-01 09:46:40|2018-08-18 23:24:26|Miami-Fort Lauder...|   FL|       mac|\n",
      "|         DevilDriver|Logged In|  Delaney|     F|           18|   Perez|302.31465| free|Miami-Fort Lauder...|   PUT|            NextSong|1534627466000|        1|End Of The Line (...|   200|1538380179000|\"Mozilla/5.0 (Mac...|100001|2018-10-01 09:49:39|2018-08-18 23:24:26|Miami-Fort Lauder...|   FL|       mac|\n",
      "|                null|Logged In|  Delaney|     F|           19|   Perez|     null| free|Miami-Fort Lauder...|   PUT|              Logout|1534627466000|        1|                null|   307|1538380180000|\"Mozilla/5.0 (Mac...|100001|2018-10-01 09:49:40|2018-08-18 23:24:26|Miami-Fort Lauder...|   FL|       mac|\n",
      "|                null|Logged In|  Delaney|     F|           22|   Perez|     null| free|Miami-Fort Lauder...|   GET|                Home|1534627466000|        1|                null|   200|1538380429000|\"Mozilla/5.0 (Mac...|100001|2018-10-01 09:53:49|2018-08-18 23:24:26|Miami-Fort Lauder...|   FL|       mac|\n",
      "|            BjÃÂ¶rk|Logged In|  Delaney|     F|           23|   Perez|348.57751| free|Miami-Fort Lauder...|   PUT|            NextSong|1534627466000|        1|                Undo|   200|1538380481000|\"Mozilla/5.0 (Mac...|100001|2018-10-01 09:54:41|2018-08-18 23:24:26|Miami-Fort Lauder...|   FL|       mac|\n",
      "|      Richard H Kirk|Logged In|  Delaney|     F|           24|   Perez|444.00281| free|Miami-Fort Lauder...|   PUT|            NextSong|1534627466000|        1|Frankie Machine (...|   200|1538380829000|\"Mozilla/5.0 (Mac...|100001|2018-10-01 10:00:29|2018-08-18 23:24:26|Miami-Fort Lauder...|   FL|       mac|\n",
      "|     Blood Red Shoes|Logged In|  Delaney|     F|           25|   Perez|176.14322| free|Miami-Fort Lauder...|   PUT|            NextSong|1534627466000|        1|It's Getting Bori...|   200|1538381273000|\"Mozilla/5.0 (Mac...|100001|2018-10-01 10:07:53|2018-08-18 23:24:26|Miami-Fort Lauder...|   FL|       mac|\n",
      "|                null|Logged In|  Delaney|     F|           26|   Perez|     null| free|Miami-Fort Lauder...|   PUT|         Thumbs Down|1534627466000|        1|                null|   307|1538381274000|\"Mozilla/5.0 (Mac...|100001|2018-10-01 10:07:54|2018-08-18 23:24:26|Miami-Fort Lauder...|   FL|       mac|\n",
      "|   Weird Al Yankovic|Logged In|  Delaney|     F|           27|   Perez|259.65669| free|Miami-Fort Lauder...|   PUT|            NextSong|1534627466000|        1|Cavity Search (Pa...|   200|1538381449000|\"Mozilla/5.0 (Mac...|100001|2018-10-01 10:10:49|2018-08-18 23:24:26|Miami-Fort Lauder...|   FL|       mac|\n",
      "|      Randy Crawford|Logged In|  Delaney|     F|           28|   Perez|270.75873| free|Miami-Fort Lauder...|   PUT|            NextSong|1534627466000|        1|               Almaz|   200|1538381708000|\"Mozilla/5.0 (Mac...|100001|2018-10-01 10:15:08|2018-08-18 23:24:26|Miami-Fort Lauder...|   FL|       mac|\n",
      "|       Dwight Yoakam|Logged In|  Delaney|     F|           29|   Perez| 239.3073| free|Miami-Fort Lauder...|   PUT|            NextSong|1534627466000|        1|      You're The One|   200|1538381978000|\"Mozilla/5.0 (Mac...|100001|2018-10-01 10:19:38|2018-08-18 23:24:26|Miami-Fort Lauder...|   FL|       mac|\n",
      "|            Amos Lee|Logged In|  Delaney|     F|           30|   Perez|259.26485| free|Miami-Fort Lauder...|   PUT|            NextSong|1534627466000|        1|      All My Friends|   200|1538382217000|\"Mozilla/5.0 (Mac...|100001|2018-10-01 10:23:37|2018-08-18 23:24:26|Miami-Fort Lauder...|   FL|       mac|\n",
      "|             Phoenix|Logged In|  Delaney|     F|           31|   Perez|198.03383| free|Miami-Fort Lauder...|   PUT|            NextSong|1534627466000|        1|           Too Young|   200|1538382476000|\"Mozilla/5.0 (Mac...|100001|2018-10-01 10:27:56|2018-08-18 23:24:26|Miami-Fort Lauder...|   FL|       mac|\n",
      "|                null|Logged In|  Delaney|     F|           32|   Perez|     null| free|Miami-Fort Lauder...|   GET|         Roll Advert|1534627466000|        1|                null|   200|1538382550000|\"Mozilla/5.0 (Mac...|100001|2018-10-01 10:29:10|2018-08-18 23:24:26|Miami-Fort Lauder...|   FL|       mac|\n",
      "|Rob Base & DJ EZ ...|Logged In|  Delaney|     F|           33|   Perez|290.61179| free|Miami-Fort Lauder...|   PUT|            NextSong|1534627466000|        1|        It Takes Two|   200|1538382674000|\"Mozilla/5.0 (Mac...|100001|2018-10-01 10:31:14|2018-08-18 23:24:26|Miami-Fort Lauder...|   FL|       mac|\n",
      "|                null|Logged In|  Delaney|     F|           34|   Perez|     null| free|Miami-Fort Lauder...|   GET|         Roll Advert|1534627466000|        1|                null|   200|1538382775000|\"Mozilla/5.0 (Mac...|100001|2018-10-01 10:32:55|2018-08-18 23:24:26|Miami-Fort Lauder...|   FL|       mac|\n",
      "|      Charlie Hunter|Logged In|  Delaney|     F|           35|   Perez|270.73261| free|Miami-Fort Lauder...|   PUT|            NextSong|1534627466000|        1|   Fly Like An Eagle|   200|1538382964000|\"Mozilla/5.0 (Mac...|100001|2018-10-01 10:36:04|2018-08-18 23:24:26|Miami-Fort Lauder...|   FL|       mac|\n",
      "|Noosa Head Feat. ...|Logged In|  Delaney|     F|           36|   Perez|298.65751| free|Miami-Fort Lauder...|   PUT|            NextSong|1534627466000|        1|           Mushrooms|   200|1538383234000|\"Mozilla/5.0 (Mac...|100001|2018-10-01 10:40:34|2018-08-18 23:24:26|Miami-Fort Lauder...|   FL|       mac|\n",
      "|              Fisher|Logged In|  Delaney|     F|           37|   Perez|225.88036| free|Miami-Fort Lauder...|   PUT|            NextSong|1534627466000|        1|     I Will Love You|   200|1538383532000|\"Mozilla/5.0 (Mac...|100001|2018-10-01 10:45:32|2018-08-18 23:24:26|Miami-Fort Lauder...|   FL|       mac|\n",
      "|          Lily Allen|Logged In|  Delaney|     F|           38|   Perez|246.12526| free|Miami-Fort Lauder...|   PUT|            NextSong|1534627466000|        1|  Take What You Take|   200|1538383757000|\"Mozilla/5.0 (Mac...|100001|2018-10-01 10:49:17|2018-08-18 23:24:26|Miami-Fort Lauder...|   FL|       mac|\n",
      "|                null|Logged In|  Delaney|     F|           39|   Perez|     null| free|Miami-Fort Lauder...|   PUT|              Logout|1534627466000|        1|                null|   307|1538383758000|\"Mozilla/5.0 (Mac...|100001|2018-10-01 10:49:18|2018-08-18 23:24:26|Miami-Fort Lauder...|   FL|       mac|\n",
      "|                null|Logged In|  Delaney|     F|           42|   Perez|     null| free|Miami-Fort Lauder...|   GET|                Home|1534627466000|        1|                null|   200|1538383846000|\"Mozilla/5.0 (Mac...|100001|2018-10-01 10:50:46|2018-08-18 23:24:26|Miami-Fort Lauder...|   FL|       mac|\n",
      "|          Bellowhead|Logged In|  Delaney|     F|           43|   Perez|237.97506| free|Miami-Fort Lauder...|   PUT|            NextSong|1534627466000|        1|    Rigs Of The Time|   200|1538384003000|\"Mozilla/5.0 (Mac...|100001|2018-10-01 10:53:23|2018-08-18 23:24:26|Miami-Fort Lauder...|   FL|       mac|\n",
      "|                null|Logged In|  Delaney|     F|           44|   Perez|     null| free|Miami-Fort Lauder...|   PUT|          Add Friend|1534627466000|        1|                null|   307|1538384004000|\"Mozilla/5.0 (Mac...|100001|2018-10-01 10:53:24|2018-08-18 23:24:26|Miami-Fort Lauder...|   FL|       mac|\n",
      "|            Harmonia|Logged In|  Delaney|     F|           45|   Perez|655.77751| free|Miami-Fort Lauder...|   PUT|            NextSong|1534627466000|        1|       Sehr kosmisch|   200|1538384240000|\"Mozilla/5.0 (Mac...|100001|2018-10-01 10:57:20|2018-08-18 23:24:26|Miami-Fort Lauder...|   FL|       mac|\n",
      "|      Matt Nathanson|Logged In|  Delaney|     F|           46|   Perez|210.99057| free|Miami-Fort Lauder...|   PUT|            NextSong|1534627466000|        1|  Curve of the Earth|   200|1538384895000|\"Mozilla/5.0 (Mac...|100001|2018-10-01 11:08:15|2018-08-18 23:24:26|Miami-Fort Lauder...|   FL|       mac|\n",
      "|              Eminem|Logged In|  Delaney|     F|           47|   Perez|248.63302| free|Miami-Fort Lauder...|   PUT|            NextSong|1534627466000|        1|        Just Lose It|   200|1538385105000|\"Mozilla/5.0 (Mac...|100001|2018-10-01 11:11:45|2018-08-18 23:24:26|Miami-Fort Lauder...|   FL|       mac|\n",
      "|          Lucky Dube|Logged In|  Delaney|     F|           48|   Perez|329.11628| free|Miami-Fort Lauder...|   PUT|            NextSong|1534627466000|        1|       It's Not Easy|   200|1538385353000|\"Mozilla/5.0 (Mac...|100001|2018-10-01 11:15:53|2018-08-18 23:24:26|Miami-Fort Lauder...|   FL|       mac|\n",
      "|                null|Logged In|  Delaney|     F|           49|   Perez|     null| free|Miami-Fort Lauder...|   PUT|           Thumbs Up|1534627466000|        1|                null|   307|1538385354000|\"Mozilla/5.0 (Mac...|100001|2018-10-01 11:15:54|2018-08-18 23:24:26|Miami-Fort Lauder...|   FL|       mac|\n",
      "|              Saybia|Logged In|  Delaney|     F|           50|   Perez|235.59791| free|Miami-Fort Lauder...|   PUT|            NextSong|1534627466000|        1|The Day After Tom...|   200|1538385682000|\"Mozilla/5.0 (Mac...|100001|2018-10-01 11:21:22|2018-08-18 23:24:26|Miami-Fort Lauder...|   FL|       mac|\n",
      "|        Jack Johnson|Logged In|  Delaney|     F|           51|   Perez|145.03138| free|Miami-Fort Lauder...|   PUT|            NextSong|1534627466000|        1|          If I Could|   200|1538385917000|\"Mozilla/5.0 (Mac...|100001|2018-10-01 11:25:17|2018-08-18 23:24:26|Miami-Fort Lauder...|   FL|       mac|\n",
      "|                null|Logged In|  Delaney|     F|           52|   Perez|     null| free|Miami-Fort Lauder...|   PUT|     Add to Playlist|1534627466000|        1|                null|   200|1538386066000|\"Mozilla/5.0 (Mac...|100001|2018-10-01 11:27:46|2018-08-18 23:24:26|Miami-Fort Lauder...|   FL|       mac|\n",
      "|        Rise Against|Logged In|  Delaney|     F|           53|   Perez|228.54485| free|Miami-Fort Lauder...|   PUT|            NextSong|1534627466000|        1|      Blood To Bleed|   200|1538386082000|\"Mozilla/5.0 (Mac...|100001|2018-10-01 11:28:02|2018-08-18 23:24:26|Miami-Fort Lauder...|   FL|       mac|\n",
      "|                null|Logged In|  Delaney|     F|           54|   Perez|     null| free|Miami-Fort Lauder...|   PUT|              Logout|1534627466000|        1|                null|   307|1538386083000|\"Mozilla/5.0 (Mac...|100001|2018-10-01 11:28:03|2018-08-18 23:24:26|Miami-Fort Lauder...|   FL|       mac|\n",
      "|                null|Logged In|  Delaney|     F|            2|   Perez|     null| free|Miami-Fort Lauder...|   GET|                Home|1534627466000|       46|                null|   200|1538451696000|\"Mozilla/5.0 (Mac...|100001|2018-10-02 05:41:36|2018-08-18 23:24:26|Miami-Fort Lauder...|   FL|       mac|\n",
      "|        Brad Mehldau|Logged In|  Delaney|     F|            3|   Perez|519.23546| free|Miami-Fort Lauder...|   PUT|            NextSong|1534627466000|       46|Resignation (Live...|   200|1538451700000|\"Mozilla/5.0 (Mac...|100001|2018-10-02 05:41:40|2018-08-18 23:24:26|Miami-Fort Lauder...|   FL|       mac|\n",
      "|          Wolfmother|Logged In|  Delaney|     F|            4|   Perez|175.82975| free|Miami-Fort Lauder...|   PUT|            NextSong|1534627466000|       46|               Woman|   200|1538452219000|\"Mozilla/5.0 (Mac...|100001|2018-10-02 05:50:19|2018-08-18 23:24:26|Miami-Fort Lauder...|   FL|       mac|\n",
      "|                null|Logged In|  Delaney|     F|            5|   Perez|     null| free|Miami-Fort Lauder...|   PUT|           Thumbs Up|1534627466000|       46|                null|   307|1538452220000|\"Mozilla/5.0 (Mac...|100001|2018-10-02 05:50:20|2018-08-18 23:24:26|Miami-Fort Lauder...|   FL|       mac|\n",
      "|   Alexandre Desplat|Logged In|  Delaney|     F|            6|   Perez|223.45098| free|Miami-Fort Lauder...|   PUT|            NextSong|1534627466000|       46|Wong Chia Chi's T...|   200|1538452394000|\"Mozilla/5.0 (Mac...|100001|2018-10-02 05:53:14|2018-08-18 23:24:26|Miami-Fort Lauder...|   FL|       mac|\n",
      "|    Enrique Iglesias|Logged In|  Delaney|     F|            7|   Perez|  264.202| free|Miami-Fort Lauder...|   PUT|            NextSong|1534627466000|       46|                Hero|   200|1538452617000|\"Mozilla/5.0 (Mac...|100001|2018-10-02 05:56:57|2018-08-18 23:24:26|Miami-Fort Lauder...|   FL|       mac|\n",
      "|       Dwight Yoakam|Logged In|  Delaney|     F|            8|   Perez| 239.3073| free|Miami-Fort Lauder...|   PUT|            NextSong|1534627466000|       46|      You're The One|   200|1538452881000|\"Mozilla/5.0 (Mac...|100001|2018-10-02 06:01:21|2018-08-18 23:24:26|Miami-Fort Lauder...|   FL|       mac|\n",
      "|         Chick Corea|Logged In|  Delaney|     F|            9|   Perez|284.99546| free|Miami-Fort Lauder...|   PUT|            NextSong|1534627466000|       46|Bossa (Digitally ...|   200|1538453120000|\"Mozilla/5.0 (Mac...|100001|2018-10-02 06:05:20|2018-08-18 23:24:26|Miami-Fort Lauder...|   FL|       mac|\n",
      "|         Brain Drill|Logged In|  Delaney|     F|           10|   Perez|251.55873| free|Miami-Fort Lauder...|   PUT|            NextSong|1534627466000|       46|     Bury The Living|   200|1538453404000|\"Mozilla/5.0 (Mac...|100001|2018-10-02 06:10:04|2018-08-18 23:24:26|Miami-Fort Lauder...|   FL|       mac|\n",
      "|                null|Logged In|  Delaney|     F|           11|   Perez|     null| free|Miami-Fort Lauder...|   GET|         Roll Advert|1534627466000|       46|                null|   200|1538453436000|\"Mozilla/5.0 (Mac...|100001|2018-10-02 06:10:36|2018-08-18 23:24:26|Miami-Fort Lauder...|   FL|       mac|\n",
      "|Kid Cudi / MGMT /...|Logged In|  Delaney|     F|           12|   Perez|295.67955| free|Miami-Fort Lauder...|   PUT|            NextSong|1534627466000|       46|Pursuit Of Happin...|   200|1538453655000|\"Mozilla/5.0 (Mac...|100001|2018-10-02 06:14:15|2018-08-18 23:24:26|Miami-Fort Lauder...|   FL|       mac|\n",
      "|          Lily Allen|Logged In|  Delaney|     F|           13|   Perez|194.89914| free|Miami-Fort Lauder...|   PUT|            NextSong|1534627466000|       46|               Smile|   200|1538453950000|\"Mozilla/5.0 (Mac...|100001|2018-10-02 06:19:10|2018-08-18 23:24:26|Miami-Fort Lauder...|   FL|       mac|\n",
      "|                Blur|Logged In|  Delaney|     F|           14|   Perez|319.86893| free|Miami-Fort Lauder...|   PUT|            NextSong|1534627466000|       46|       Coffee And TV|   200|1538454144000|\"Mozilla/5.0 (Mac...|100001|2018-10-02 06:22:24|2018-08-18 23:24:26|Miami-Fort Lauder...|   FL|       mac|\n",
      "|Florence + The Ma...|Logged In|  Delaney|     F|           15|   Perez|219.66322| free|Miami-Fort Lauder...|   PUT|            NextSong|1534627466000|       46|Dog Days Are Over...|   200|1538454463000|\"Mozilla/5.0 (Mac...|100001|2018-10-02 06:27:43|2018-08-18 23:24:26|Miami-Fort Lauder...|   FL|       mac|\n",
      "|              Prince|Logged In|  Delaney|     F|           16|   Perez|349.77914| free|Miami-Fort Lauder...|   PUT|            NextSong|1534627466000|       46|I Wanna Be Your L...|   200|1538454682000|\"Mozilla/5.0 (Mac...|100001|2018-10-02 06:31:22|2018-08-18 23:24:26|Miami-Fort Lauder...|   FL|       mac|\n",
      "|           Holy Fuck|Logged In|  Delaney|     F|           17|   Perez|356.77995| free|Miami-Fort Lauder...|   PUT|            NextSong|1534627466000|       46|           The Pulse|   200|1538455031000|\"Mozilla/5.0 (Mac...|100001|2018-10-02 06:37:11|2018-08-18 23:24:26|Miami-Fort Lauder...|   FL|       mac|\n",
      "|            BjÃÂ¶rk|Logged In|  Delaney|     F|           18|   Perez|348.57751| free|Miami-Fort Lauder...|   PUT|            NextSong|1534627466000|       46|                Undo|   200|1538455387000|\"Mozilla/5.0 (Mac...|100001|2018-10-02 06:43:07|2018-08-18 23:24:26|Miami-Fort Lauder...|   FL|       mac|\n",
      "|           The Kinks|Logged In|  Delaney|     F|           19|   Perez|  150.282| free|Miami-Fort Lauder...|   PUT|            NextSong|1534627466000|       46|Tired Of Waiting ...|   200|1538455735000|\"Mozilla/5.0 (Mac...|100001|2018-10-02 06:48:55|2018-08-18 23:24:26|Miami-Fort Lauder...|   FL|       mac|\n",
      "|                null|Logged In|  Delaney|     F|           20|   Perez|     null| free|Miami-Fort Lauder...|   GET|            Settings|1534627466000|       46|                null|   200|1538455871000|\"Mozilla/5.0 (Mac...|100001|2018-10-02 06:51:11|2018-08-18 23:24:26|Miami-Fort Lauder...|   FL|       mac|\n",
      "|       Ronan Keating|Logged In|  Delaney|     F|           21|   Perez|  214.282| free|Miami-Fort Lauder...|   PUT|            NextSong|1534627466000|       46|If Tomorrow Never...|   200|1538455885000|\"Mozilla/5.0 (Mac...|100001|2018-10-02 06:51:25|2018-08-18 23:24:26|Miami-Fort Lauder...|   FL|       mac|\n",
      "| Broken Social Scene|Logged In|  Delaney|     F|           22|   Perez|262.86975| free|Miami-Fort Lauder...|   PUT|            NextSong|1534627466000|       46|       Almost Crimes|   200|1538456099000|\"Mozilla/5.0 (Mac...|100001|2018-10-02 06:54:59|2018-08-18 23:24:26|Miami-Fort Lauder...|   FL|       mac|\n",
      "|          Billy Idol|Logged In|  Delaney|     F|           23|   Perez|232.46322| free|Miami-Fort Lauder...|   PUT|            NextSong|1534627466000|       46|       To Be A Lover|   200|1538456361000|\"Mozilla/5.0 (Mac...|100001|2018-10-02 06:59:21|2018-08-18 23:24:26|Miami-Fort Lauder...|   FL|       mac|\n",
      "|           Mantronix|Logged In|  Delaney|     F|           24|   Perez|233.27302| free|Miami-Fort Lauder...|   PUT|            NextSong|1534627466000|       46|Get Stupid Fresh ...|   200|1538456593000|\"Mozilla/5.0 (Mac...|100001|2018-10-02 07:03:13|2018-08-18 23:24:26|Miami-Fort Lauder...|   FL|       mac|\n",
      "|                null|Logged In|  Delaney|     F|           25|   Perez|     null| free|Miami-Fort Lauder...|   GET|                Home|1534627466000|       46|                null|   200|1538456624000|\"Mozilla/5.0 (Mac...|100001|2018-10-02 07:03:44|2018-08-18 23:24:26|Miami-Fort Lauder...|   FL|       mac|\n",
      "|Florence + The Ma...|Logged In|  Delaney|     F|           26|   Perez| 131.3171| free|Miami-Fort Lauder...|   PUT|            NextSong|1534627466000|       46|    Kiss With A Fist|   200|1538456826000|\"Mozilla/5.0 (Mac...|100001|2018-10-02 07:07:06|2018-08-18 23:24:26|Miami-Fort Lauder...|   FL|       mac|\n",
      "|       Nelly Furtado|Logged In|  Delaney|     F|           27|   Perez|234.16118| free|Miami-Fort Lauder...|   PUT|            NextSong|1534627466000|       46|Shit On The Radio...|   200|1538456957000|\"Mozilla/5.0 (Mac...|100001|2018-10-02 07:09:17|2018-08-18 23:24:26|Miami-Fort Lauder...|   FL|       mac|\n",
      "|                null|Logged In|  Delaney|     F|           28|   Perez|     null| free|Miami-Fort Lauder...|   GET|         Roll Advert|1534627466000|       46|                null|   200|1538457061000|\"Mozilla/5.0 (Mac...|100001|2018-10-02 07:11:01|2018-08-18 23:24:26|Miami-Fort Lauder...|   FL|       mac|\n",
      "|               Jewel|Logged In|  Delaney|     F|           29|   Perez|335.98649| free|Miami-Fort Lauder...|   PUT|            NextSong|1534627466000|       46|Who Will Save You...|   200|1538457191000|\"Mozilla/5.0 (Mac...|100001|2018-10-02 07:13:11|2018-08-18 23:24:26|Miami-Fort Lauder...|   FL|       mac|\n",
      "|       Metro Station|Logged In|  Delaney|     F|           30|   Perez|175.51628| free|Miami-Fort Lauder...|   PUT|            NextSong|1534627466000|       46|  Wish We Were Older|   200|1538457526000|\"Mozilla/5.0 (Mac...|100001|2018-10-02 07:18:46|2018-08-18 23:24:26|Miami-Fort Lauder...|   FL|       mac|\n",
      "|   Justin Timberlake|Logged In|  Delaney|     F|           31|   Perez|374.33424| free|Miami-Fort Lauder...|   PUT|            NextSong|1534627466000|       46|   Take It From Here|   200|1538457701000|\"Mozilla/5.0 (Mac...|100001|2018-10-02 07:21:41|2018-08-18 23:24:26|Miami-Fort Lauder...|   FL|       mac|\n",
      "|   Natalie Imbruglia|Logged In|  Delaney|     F|           32|   Perez|235.41506| free|Miami-Fort Lauder...|   PUT|            NextSong|1534627466000|       46|    Don't You Think?|   200|1538458075000|\"Mozilla/5.0 (Mac...|100001|2018-10-02 07:27:55|2018-08-18 23:24:26|Miami-Fort Lauder...|   FL|       mac|\n",
      "|     JÃÂ³nsi & Alex|Logged In|  Delaney|     F|           33|   Perez|541.02159| free|Miami-Fort Lauder...|   PUT|            NextSong|1534627466000|       46|       Indian Summer|   200|1538458310000|\"Mozilla/5.0 (Mac...|100001|2018-10-02 07:31:50|2018-08-18 23:24:26|Miami-Fort Lauder...|   FL|       mac|\n",
      "|                null|Logged In|  Delaney|     F|           34|   Perez|     null| free|Miami-Fort Lauder...|   GET|                Home|1534627466000|       46|                null|   200|1538458321000|\"Mozilla/5.0 (Mac...|100001|2018-10-02 07:32:01|2018-08-18 23:24:26|Miami-Fort Lauder...|   FL|       mac|\n",
      "|            Gorillaz|Logged In|  Delaney|     F|           35|   Perez|272.45669| free|Miami-Fort Lauder...|   PUT|            NextSong|1534627466000|       46|Man Research (Cla...|   200|1538458851000|\"Mozilla/5.0 (Mac...|100001|2018-10-02 07:40:51|2018-08-18 23:24:26|Miami-Fort Lauder...|   FL|       mac|\n",
      "|                null|Logged In|  Delaney|     F|           36|   Perez|     null| free|Miami-Fort Lauder...|   PUT|         Thumbs Down|1534627466000|       46|                null|   307|1538458852000|\"Mozilla/5.0 (Mac...|100001|2018-10-02 07:40:52|2018-08-18 23:24:26|Miami-Fort Lauder...|   FL|       mac|\n",
      "|      Brisa RochÃÂ©|Logged In|  Delaney|     F|           37|   Perez| 48.19546| free|Miami-Fort Lauder...|   PUT|            NextSong|1534627466000|       46|      Intermission 1|   200|1538459123000|\"Mozilla/5.0 (Mac...|100001|2018-10-02 07:45:23|2018-08-18 23:24:26|Miami-Fort Lauder...|   FL|       mac|\n",
      "|             Refused|Logged In|  Delaney|     F|           38|   Perez|111.62077| free|Miami-Fort Lauder...|   PUT|            NextSong|1534627466000|       46|            Who Died|   200|1538459171000|\"Mozilla/5.0 (Mac...|100001|2018-10-02 07:46:11|2018-08-18 23:24:26|Miami-Fort Lauder...|   FL|       mac|\n",
      "|          Emily West|Logged In|  Delaney|     F|           39|   Perez|226.63791| free|Miami-Fort Lauder...|   PUT|            NextSong|1534627466000|       46|Blue Sky (Featuri...|   200|1538459282000|\"Mozilla/5.0 (Mac...|100001|2018-10-02 07:48:02|2018-08-18 23:24:26|Miami-Fort Lauder...|   FL|       mac|\n",
      "|           Los Lobos|Logged In|  Delaney|     F|           40|   Perez|131.68281| free|Miami-Fort Lauder...|   PUT|            NextSong|1534627466000|       46|   Come On_ Let's Go|   200|1538459508000|\"Mozilla/5.0 (Mac...|100001|2018-10-02 07:51:48|2018-08-18 23:24:26|Miami-Fort Lauder...|   FL|       mac|\n",
      "|                null|Logged In|  Delaney|     F|           41|   Perez|     null| free|Miami-Fort Lauder...|   GET|             Upgrade|1534627466000|       46|                null|   200|1538459613000|\"Mozilla/5.0 (Mac...|100001|2018-10-02 07:53:33|2018-08-18 23:24:26|Miami-Fort Lauder...|   FL|       mac|\n",
      "|         Soda Stereo|Logged In|  Delaney|     F|           42|   Perez|186.69669| free|Miami-Fort Lauder...|   PUT|            NextSong|1534627466000|       46|ObservÃÂ¡ndonos ...|   200|1538459639000|\"Mozilla/5.0 (Mac...|100001|2018-10-02 07:53:59|2018-08-18 23:24:26|Miami-Fort Lauder...|   FL|       mac|\n",
      "|    Isabella Taviani|Logged In|  Delaney|     F|           43|   Perez|313.49506| free|Miami-Fort Lauder...|   PUT|            NextSong|1534627466000|       46|CanÃÂ§ÃÂ£o Para...|   200|1538459825000|\"Mozilla/5.0 (Mac...|100001|2018-10-02 07:57:05|2018-08-18 23:24:26|Miami-Fort Lauder...|   FL|       mac|\n",
      "|           Aerosmith|Logged In|  Delaney|     F|           44|   Perez|267.33669| free|Miami-Fort Lauder...|   PUT|            NextSong|1534627466000|       46|            Dream On|   200|1538460138000|\"Mozilla/5.0 (Mac...|100001|2018-10-02 08:02:18|2018-08-18 23:24:26|Miami-Fort Lauder...|   FL|       mac|\n",
      "|                null|Logged In|  Delaney|     F|           45|   Perez|     null| free|Miami-Fort Lauder...|   GET|         Roll Advert|1534627466000|       46|                null|   200|1538460173000|\"Mozilla/5.0 (Mac...|100001|2018-10-02 08:02:53|2018-08-18 23:24:26|Miami-Fort Lauder...|   FL|       mac|\n",
      "|        Bill Bruford|Logged In|  Delaney|     F|           46|   Perez|278.30812| free|Miami-Fort Lauder...|   PUT|            NextSong|1534627466000|       46|Travels With Myse...|   200|1538460405000|\"Mozilla/5.0 (Mac...|100001|2018-10-02 08:06:45|2018-08-18 23:24:26|Miami-Fort Lauder...|   FL|       mac|\n",
      "|    Basil Poledouris|Logged In|  Delaney|     F|           47|   Perez|174.96771| free|Miami-Fort Lauder...|   PUT|            NextSong|1534627466000|       46|             Chopper|   200|1538460683000|\"Mozilla/5.0 (Mac...|100001|2018-10-02 08:11:23|2018-08-18 23:24:26|Miami-Fort Lauder...|   FL|       mac|\n",
      "|Creedence Clearwa...|Logged In|  Delaney|     F|           48|   Perez|160.02567| free|Miami-Fort Lauder...|   PUT|            NextSong|1534627466000|       46|Have You Ever See...|   200|1538460857000|\"Mozilla/5.0 (Mac...|100001|2018-10-02 08:14:17|2018-08-18 23:24:26|Miami-Fort Lauder...|   FL|       mac|\n",
      "|      Jennifer Lopez|Logged In|  Delaney|     F|           49|   Perez|239.41179| free|Miami-Fort Lauder...|   PUT|            NextSong|1534627466000|       46|      Let's Get Loud|   200|1538461017000|\"Mozilla/5.0 (Mac...|100001|2018-10-02 08:16:57|2018-08-18 23:24:26|Miami-Fort Lauder...|   FL|       mac|\n",
      "|                null|Logged In|  Delaney|     F|           50|   Perez|     null| free|Miami-Fort Lauder...|   PUT|           Thumbs Up|1534627466000|       46|                null|   307|1538461018000|\"Mozilla/5.0 (Mac...|100001|2018-10-02 08:16:58|2018-08-18 23:24:26|Miami-Fort Lauder...|   FL|       mac|\n",
      "|  Daisy (Papp Daisy)|Logged In|  Delaney|     F|           51|   Perez|195.60444| free|Miami-Fort Lauder...|   PUT|            NextSong|1534627466000|       46|      ÃÂgyis tudom|   200|1538461256000|\"Mozilla/5.0 (Mac...|100001|2018-10-02 08:20:56|2018-08-18 23:24:26|Miami-Fort Lauder...|   FL|       mac|\n",
      "|             Nirvana|Logged In|  Delaney|     F|           52|   Perez|308.37506| free|Miami-Fort Lauder...|   PUT|            NextSong|1534627466000|       46|Where Did You Sle...|   200|1538461451000|\"Mozilla/5.0 (Mac...|100001|2018-10-02 08:24:11|2018-08-18 23:24:26|Miami-Fort Lauder...|   FL|       mac|\n",
      "|        Serj Tankian|Logged In|  Delaney|     F|           53|   Perez|233.66485| free|Miami-Fort Lauder...|   PUT|            NextSong|1534627466000|       46|Money (Album Vers...|   200|1538461759000|\"Mozilla/5.0 (Mac...|100001|2018-10-02 08:29:19|2018-08-18 23:24:26|Miami-Fort Lauder...|   FL|       mac|\n",
      "|            The Ruts|Logged In|  Delaney|     F|           54|   Perez|338.96444| free|Miami-Fort Lauder...|   PUT|            NextSong|1534627466000|       46|West One (Shine O...|   200|1538461992000|\"Mozilla/5.0 (Mac...|100001|2018-10-02 08:33:12|2018-08-18 23:24:26|Miami-Fort Lauder...|   FL|       mac|\n",
      "|           Radiohead|Logged In|  Delaney|     F|           55|   Perez|261.45914| free|Miami-Fort Lauder...|   PUT|            NextSong|1534627466000|       46|        Karma Police|   200|1538462330000|\"Mozilla/5.0 (Mac...|100001|2018-10-02 08:38:50|2018-08-18 23:24:26|Miami-Fort Lauder...|   FL|       mac|\n",
      "|                null|Logged In|  Delaney|     F|           56|   Perez|     null| free|Miami-Fort Lauder...|   PUT|           Thumbs Up|1534627466000|       46|                null|   307|1538462331000|\"Mozilla/5.0 (Mac...|100001|2018-10-02 08:38:51|2018-08-18 23:24:26|Miami-Fort Lauder...|   FL|       mac|\n",
      "|      George Winston|Logged In|  Delaney|     F|           57|   Perez|195.16036| free|Miami-Fort Lauder...|   PUT|            NextSong|1534627466000|       46|        Linus & Lucy|   200|1538462591000|\"Mozilla/5.0 (Mac...|100001|2018-10-02 08:43:11|2018-08-18 23:24:26|Miami-Fort Lauder...|   FL|       mac|\n",
      "|           Just Jack|Logged In|  Delaney|     F|           58|   Perez|295.91465| free|Miami-Fort Lauder...|   PUT|            NextSong|1534627466000|       46| Starz In Their Eyes|   200|1538462786000|\"Mozilla/5.0 (Mac...|100001|2018-10-02 08:46:26|2018-08-18 23:24:26|Miami-Fort Lauder...|   FL|       mac|\n",
      "|        Modest Mouse|Logged In|  Delaney|     F|           59|   Perez|366.13179| free|Miami-Fort Lauder...|   PUT|            NextSong|1534627466000|       46|      The Whale Song|   200|1538463081000|\"Mozilla/5.0 (Mac...|100001|2018-10-02 08:51:21|2018-08-18 23:24:26|Miami-Fort Lauder...|   FL|       mac|\n",
      "|                null|Logged In|  Delaney|     F|           60|   Perez|     null| free|Miami-Fort Lauder...|   GET|             Upgrade|1534627466000|       46|                null|   200|1538463098000|\"Mozilla/5.0 (Mac...|100001|2018-10-02 08:51:38|2018-08-18 23:24:26|Miami-Fort Lauder...|   FL|       mac|\n",
      "|              T.Love|Logged In|  Delaney|     F|           61|   Perez| 159.7122| free|Miami-Fort Lauder...|   PUT|            NextSong|1534627466000|       46|       Love And Hate|   200|1538463447000|\"Mozilla/5.0 (Mac...|100001|2018-10-02 08:57:27|2018-08-18 23:24:26|Miami-Fort Lauder...|   FL|       mac|\n",
      "|                null|Logged In|  Delaney|     F|           62|   Perez|     null| free|Miami-Fort Lauder...|   GET|         Roll Advert|1534627466000|       46|                null|   200|1538463489000|\"Mozilla/5.0 (Mac...|100001|2018-10-02 08:58:09|2018-08-18 23:24:26|Miami-Fort Lauder...|   FL|       mac|\n",
      "|                null|Logged In|  Delaney|     F|           63|   Perez|     null| free|Miami-Fort Lauder...|   GET|         Roll Advert|1534627466000|       46|                null|   200|1538463534000|\"Mozilla/5.0 (Mac...|100001|2018-10-02 08:58:54|2018-08-18 23:24:26|Miami-Fort Lauder...|   FL|       mac|\n",
      "|                MGMT|Logged In|  Delaney|     F|           64|   Perez|229.25016| free|Miami-Fort Lauder...|   PUT|            NextSong|1534627466000|       46|       Electric Feel|   200|1538463606000|\"Mozilla/5.0 (Mac...|100001|2018-10-02 09:00:06|2018-08-18 23:24:26|Miami-Fort Lauder...|   FL|       mac|\n",
      "|  The Rolling Stones|Logged In|  Delaney|     F|           65|   Perez|263.00036| free|Miami-Fort Lauder...|   PUT|            NextSong|1534627466000|       46|  Jumping Jack Flash|   200|1538463835000|\"Mozilla/5.0 (Mac...|100001|2018-10-02 09:03:55|2018-08-18 23:24:26|Miami-Fort Lauder...|   FL|       mac|\n",
      "|        Flying Lotus|Logged In|  Delaney|     F|           66|   Perez|137.79546| free|Miami-Fort Lauder...|   PUT|            NextSong|1534627466000|       46|Vegas Collie (fea...|   200|1538464098000|\"Mozilla/5.0 (Mac...|100001|2018-10-02 09:08:18|2018-08-18 23:24:26|Miami-Fort Lauder...|   FL|       mac|\n",
      "|              Pixies|Logged In|  Delaney|     F|           67|   Perez|107.57179| free|Miami-Fort Lauder...|   PUT|            NextSong|1534627466000|       46|      Rock A My Soul|   200|1538464235000|\"Mozilla/5.0 (Mac...|100001|2018-10-02 09:10:35|2018-08-18 23:24:26|Miami-Fort Lauder...|   FL|       mac|\n",
      "|         Dominique A|Logged In|  Delaney|     F|           68|   Perez|153.20771| free|Miami-Fort Lauder...|   PUT|            NextSong|1534627466000|       46|Le Courage Des Oi...|   200|1538464342000|\"Mozilla/5.0 (Mac...|100001|2018-10-02 09:12:22|2018-08-18 23:24:26|Miami-Fort Lauder...|   FL|       mac|\n",
      "|           Lifehouse|Logged In|  Delaney|     F|           69|   Perez|236.14649| free|Miami-Fort Lauder...|   PUT|            NextSong|1534627466000|       46|            The Joke|   200|1538464495000|\"Mozilla/5.0 (Mac...|100001|2018-10-02 09:14:55|2018-08-18 23:24:26|Miami-Fort Lauder...|   FL|       mac|\n",
      "|                null|Logged In|  Delaney|     F|           70|   Perez|     null| free|Miami-Fort Lauder...|   PUT|     Add to Playlist|1534627466000|       46|                null|   200|1538464613000|\"Mozilla/5.0 (Mac...|100001|2018-10-02 09:16:53|2018-08-18 23:24:26|Miami-Fort Lauder...|   FL|       mac|\n",
      "|          Zeromancer|Logged In|  Delaney|     F|            0|   Perez|294.16444| free|Miami-Fort Lauder...|   PUT|            NextSong|1534627466000|       51|        Raising Hell|   200|1538482755000|\"Mozilla/5.0 (Mac...|100001|2018-10-02 14:19:15|2018-08-18 23:24:26|Miami-Fort Lauder...|   FL|       mac|\n",
      "|                null|Logged In|  Delaney|     F|            1|   Perez|     null| free|Miami-Fort Lauder...|   PUT|              Logout|1534627466000|       51|                null|   307|1538482756000|\"Mozilla/5.0 (Mac...|100001|2018-10-02 14:19:16|2018-08-18 23:24:26|Miami-Fort Lauder...|   FL|       mac|\n",
      "|                null|Logged In|  Delaney|     F|            4|   Perez|     null| free|Miami-Fort Lauder...|   GET|                Home|1534627466000|       51|                null|   200|1538483069000|\"Mozilla/5.0 (Mac...|100001|2018-10-02 14:24:29|2018-08-18 23:24:26|Miami-Fort Lauder...|   FL|       mac|\n",
      "|       Anthony Evans|Logged In|  Delaney|     F|            5|   Perez|283.68934| free|Miami-Fort Lauder...|   PUT|            NextSong|1534627466000|       51|Wonderful Mercifu...|   200|1538483141000|\"Mozilla/5.0 (Mac...|100001|2018-10-02 14:25:41|2018-08-18 23:24:26|Miami-Fort Lauder...|   FL|       mac|\n",
      "|                null|Logged In|  Delaney|     F|            6|   Perez|     null| free|Miami-Fort Lauder...|   GET|         Roll Advert|1534627466000|       51|                null|   200|1538483164000|\"Mozilla/5.0 (Mac...|100001|2018-10-02 14:26:04|2018-08-18 23:24:26|Miami-Fort Lauder...|   FL|       mac|\n",
      "|Christina Aguiler...|Logged In|  Delaney|     F|            7|   Perez|264.93342| free|Miami-Fort Lauder...|   PUT|            NextSong|1534627466000|       51|      Lady Marmalade|   200|1538483424000|\"Mozilla/5.0 (Mac...|100001|2018-10-02 14:30:24|2018-08-18 23:24:26|Miami-Fort Lauder...|   FL|       mac|\n",
      "|                null|Logged In|  Delaney|     F|            8|   Perez|     null| free|Miami-Fort Lauder...|   GET|         Roll Advert|1534627466000|       51|                null|   200|1538483727000|\"Mozilla/5.0 (Mac...|100001|2018-10-02 14:35:27|2018-08-18 23:24:26|Miami-Fort Lauder...|   FL|       mac|\n",
      "|           Fannypack|Logged In|  Delaney|     F|            9|   Perez|203.91138| free|Miami-Fort Lauder...|   PUT|            NextSong|1534627466000|       51|Fire Fire featuri...|   200|1538483738000|\"Mozilla/5.0 (Mac...|100001|2018-10-02 14:35:38|2018-08-18 23:24:26|Miami-Fort Lauder...|   FL|       mac|\n",
      "|             MercyME|Logged In|  Delaney|     F|           10|   Perez|330.05669| free|Miami-Fort Lauder...|   PUT|            NextSong|1534627466000|       51|      Bring The Rain|   200|1538483941000|\"Mozilla/5.0 (Mac...|100001|2018-10-02 14:39:01|2018-08-18 23:24:26|Miami-Fort Lauder...|   FL|       mac|\n",
      "|                null|Logged In|  Delaney|     F|           11|   Perez|     null| free|Miami-Fort Lauder...|   PUT|              Logout|1534627466000|       51|                null|   307|1538483942000|\"Mozilla/5.0 (Mac...|100001|2018-10-02 14:39:02|2018-08-18 23:24:26|Miami-Fort Lauder...|   FL|       mac|\n",
      "|                null|Logged In|  Delaney|     F|           14|   Perez|     null| free|Miami-Fort Lauder...|   GET|                Home|1534627466000|       51|                null|   200|1538484662000|\"Mozilla/5.0 (Mac...|100001|2018-10-02 14:51:02|2018-08-18 23:24:26|Miami-Fort Lauder...|   FL|       mac|\n",
      "|      Facundo Cabral|Logged In|  Delaney|     F|           15|   Perez|108.35546| free|Miami-Fort Lauder...|   PUT|            NextSong|1534627466000|       51|      Texto Dictador|   200|1538484997000|\"Mozilla/5.0 (Mac...|100001|2018-10-02 14:56:37|2018-08-18 23:24:26|Miami-Fort Lauder...|   FL|       mac|\n",
      "|           The Hours|Logged In|  Delaney|     F|           16|   Perez|235.10159| free|Miami-Fort Lauder...|   PUT|            NextSong|1534627466000|       51|   Ali In The Jungle|   200|1538485105000|\"Mozilla/5.0 (Mac...|100001|2018-10-02 14:58:25|2018-08-18 23:24:26|Miami-Fort Lauder...|   FL|       mac|\n",
      "|                null|Logged In|  Delaney|     F|           17|   Perez|     null| free|Miami-Fort Lauder...|   PUT|           Thumbs Up|1534627466000|       51|                null|   307|1538485106000|\"Mozilla/5.0 (Mac...|100001|2018-10-02 14:58:26|2018-08-18 23:24:26|Miami-Fort Lauder...|   FL|       mac|\n",
      "|Loquillo Y Los Tr...|Logged In|  Delaney|     F|           18|   Perez|283.66322| free|Miami-Fort Lauder...|   PUT|            NextSong|1534627466000|       51|Me And Bobby McGe...|   200|1538485340000|\"Mozilla/5.0 (Mac...|100001|2018-10-02 15:02:20|2018-08-18 23:24:26|Miami-Fort Lauder...|   FL|       mac|\n",
      "|      REO Speedwagon|Logged In|  Delaney|     F|           19|   Perez|297.19465| free|Miami-Fort Lauder...|   PUT|            NextSong|1534627466000|       51|Can't Fight This ...|   200|1538485623000|\"Mozilla/5.0 (Mac...|100001|2018-10-02 15:07:03|2018-08-18 23:24:26|Miami-Fort Lauder...|   FL|       mac|\n",
      "|                null|Logged In|  Delaney|     F|           20|   Perez|     null| free|Miami-Fort Lauder...|   PUT|          Add Friend|1534627466000|       51|                null|   307|1538485624000|\"Mozilla/5.0 (Mac...|100001|2018-10-02 15:07:04|2018-08-18 23:24:26|Miami-Fort Lauder...|   FL|       mac|\n",
      "|        Culture Beat|Logged In|  Delaney|     F|           21|   Perez|257.43628| free|Miami-Fort Lauder...|   PUT|            NextSong|1534627466000|       51|             Mr Vain|   200|1538485920000|\"Mozilla/5.0 (Mac...|100001|2018-10-02 15:12:00|2018-08-18 23:24:26|Miami-Fort Lauder...|   FL|       mac|\n",
      "|                null|Logged In|  Delaney|     F|           22|   Perez|     null| free|Miami-Fort Lauder...|   GET|                Home|1534627466000|       51|                null|   200|1538486429000|\"Mozilla/5.0 (Mac...|100001|2018-10-02 15:20:29|2018-08-18 23:24:26|Miami-Fort Lauder...|   FL|       mac|\n",
      "|        Warren Zevon|Logged In|  Delaney|     F|           23|   Perez|206.54975| free|Miami-Fort Lauder...|   PUT|            NextSong|1534627466000|       51|Werewolves Of Lon...|   200|1538486486000|\"Mozilla/5.0 (Mac...|100001|2018-10-02 15:21:26|2018-08-18 23:24:26|Miami-Fort Lauder...|   FL|       mac|\n",
      "|   A Day To Remember|Logged In|  Delaney|     F|           24|   Perez|243.22567| free|Miami-Fort Lauder...|   PUT|            NextSong|1534627466000|       51|If It Means A Lot...|   200|1538486692000|\"Mozilla/5.0 (Mac...|100001|2018-10-02 15:24:52|2018-08-18 23:24:26|Miami-Fort Lauder...|   FL|       mac|\n",
      "|                null|Logged In|  Delaney|     F|           25|   Perez|     null| free|Miami-Fort Lauder...|   PUT|           Thumbs Up|1534627466000|       51|                null|   307|1538486693000|\"Mozilla/5.0 (Mac...|100001|2018-10-02 15:24:53|2018-08-18 23:24:26|Miami-Fort Lauder...|   FL|       mac|\n",
      "|                Blur|Logged In|  Delaney|     F|           26|   Perez|361.58649| free|Miami-Fort Lauder...|   PUT|            NextSong|1534627466000|       51|                Sing|   200|1538486935000|\"Mozilla/5.0 (Mac...|100001|2018-10-02 15:28:55|2018-08-18 23:24:26|Miami-Fort Lauder...|   FL|       mac|\n",
      "|                null|Logged In|  Delaney|     F|           27|   Perez|     null| free|Miami-Fort Lauder...|   PUT|           Thumbs Up|1534627466000|       51|                null|   307|1538486936000|\"Mozilla/5.0 (Mac...|100001|2018-10-02 15:28:56|2018-08-18 23:24:26|Miami-Fort Lauder...|   FL|       mac|\n",
      "|               Stars|Logged In|  Delaney|     F|           28|   Perez|255.79057| free|Miami-Fort Lauder...|   PUT|            NextSong|1534627466000|       51|Your Ex-Lover Is ...|   200|1538487296000|\"Mozilla/5.0 (Mac...|100001|2018-10-02 15:34:56|2018-08-18 23:24:26|Miami-Fort Lauder...|   FL|       mac|\n",
      "|         Keri Hilson|Logged In|  Delaney|     F|           29|   Perez|295.54893| free|Miami-Fort Lauder...|   PUT|            NextSong|1534627466000|       51|     Where Did He Go|   200|1538487551000|\"Mozilla/5.0 (Mac...|100001|2018-10-02 15:39:11|2018-08-18 23:24:26|Miami-Fort Lauder...|   FL|       mac|\n",
      "|           Sue Foley|Logged In|  Delaney|     F|           30|   Perez|260.17914| free|Miami-Fort Lauder...|   PUT|            NextSong|1534627466000|       51|    Love Comin' Down|   200|1538487846000|\"Mozilla/5.0 (Mac...|100001|2018-10-02 15:44:06|2018-08-18 23:24:26|Miami-Fort Lauder...|   FL|       mac|\n",
      "|                null|Logged In|  Delaney|     F|           31|   Perez|     null| free|Miami-Fort Lauder...|   PUT|     Add to Playlist|1534627466000|       51|                null|   200|1538487847000|\"Mozilla/5.0 (Mac...|100001|2018-10-02 15:44:07|2018-08-18 23:24:26|Miami-Fort Lauder...|   FL|       mac|\n",
      "|                null|Logged In|  Delaney|     F|           32|   Perez|     null| free|Miami-Fort Lauder...|   PUT|           Thumbs Up|1534627466000|       51|                null|   307|1538487848000|\"Mozilla/5.0 (Mac...|100001|2018-10-02 15:44:08|2018-08-18 23:24:26|Miami-Fort Lauder...|   FL|       mac|\n",
      "|      Shiny Toy Guns|Logged In|  Delaney|     F|           33|   Perez|252.42077| free|Miami-Fort Lauder...|   PUT|            NextSong|1534627466000|       51|Major Tom (Coming...|   200|1538488106000|\"Mozilla/5.0 (Mac...|100001|2018-10-02 15:48:26|2018-08-18 23:24:26|Miami-Fort Lauder...|   FL|       mac|\n",
      "|    Dr. Dre / Eminem|Logged In|  Delaney|     F|           34|   Perez|222.27546| free|Miami-Fort Lauder...|   PUT|            NextSong|1534627466000|       51|    Forgot About Dre|   200|1538488358000|\"Mozilla/5.0 (Mac...|100001|2018-10-02 15:52:38|2018-08-18 23:24:26|Miami-Fort Lauder...|   FL|       mac|\n",
      "|             Justice|Logged In|  Delaney|     F|           35|   Perez|280.11057| free|Miami-Fort Lauder...|   PUT|            NextSong|1534627466000|       51|D.A.N.C.E [MSTRKR...|   200|1538488580000|\"Mozilla/5.0 (Mac...|100001|2018-10-02 15:56:20|2018-08-18 23:24:26|Miami-Fort Lauder...|   FL|       mac|\n",
      "|    Evan Rachel Wood|Logged In|  Delaney|     F|           36|   Perez|136.80281| free|Miami-Fort Lauder...|   PUT|            NextSong|1534627466000|       51|    It Won't Be Long|   200|1538488860000|\"Mozilla/5.0 (Mac...|100001|2018-10-02 16:01:00|2018-08-18 23:24:26|Miami-Fort Lauder...|   FL|       mac|\n",
      "|           AR Rahman|Logged In|  Delaney|     F|           37|   Perez|405.28934| free|Miami-Fort Lauder...|   PUT|            NextSong|1534627466000|       51|Dil Se Re (from t...|   200|1538488996000|\"Mozilla/5.0 (Mac...|100001|2018-10-02 16:03:16|2018-08-18 23:24:26|Miami-Fort Lauder...|   FL|       mac|\n",
      "|         Iron Maiden|Logged In|  Delaney|     F|           38|   Perez|280.55465| free|Miami-Fort Lauder...|   PUT|            NextSong|1534627466000|       51|Only The Good Die...|   200|1538489401000|\"Mozilla/5.0 (Mac...|100001|2018-10-02 16:10:01|2018-08-18 23:24:26|Miami-Fort Lauder...|   FL|       mac|\n",
      "|The Oscar Peterso...|Logged In|  Delaney|     F|           39|   Perez|200.14975| free|Miami-Fort Lauder...|   PUT|            NextSong|1534627466000|       51|        I Got Rhythm|   200|1538489681000|\"Mozilla/5.0 (Mac...|100001|2018-10-02 16:14:41|2018-08-18 23:24:26|Miami-Fort Lauder...|   FL|       mac|\n",
      "|  DAVE MATTHEWS BAND|Logged In|  Delaney|     F|           40|   Perez|397.34812| free|Miami-Fort Lauder...|   PUT|            NextSong|1534627466000|       51|          Corn Bread|   200|1538489881000|\"Mozilla/5.0 (Mac...|100001|2018-10-02 16:18:01|2018-08-18 23:24:26|Miami-Fort Lauder...|   FL|       mac|\n",
      "|                null|Logged In|  Delaney|     F|           41|   Perez|     null| free|Miami-Fort Lauder...|   GET|               Error|1534627466000|       51|                null|   404|1538489901000|\"Mozilla/5.0 (Mac...|100001|2018-10-02 16:18:21|2018-08-18 23:24:26|Miami-Fort Lauder...|   FL|       mac|\n",
      "|           The Clash|Logged In|  Delaney|     F|           42|   Perez|263.20934| free|Miami-Fort Lauder...|   PUT|            NextSong|1534627466000|       51|      Hitsville U.K.|   200|1538490278000|\"Mozilla/5.0 (Mac...|100001|2018-10-02 16:24:38|2018-08-18 23:24:26|Miami-Fort Lauder...|   FL|       mac|\n",
      "|          Air France|Logged In|  Delaney|     F|           43|   Perez|318.58893| free|Miami-Fort Lauder...|   PUT|            NextSong|1534627466000|       51|       Never Content|   200|1538490541000|\"Mozilla/5.0 (Mac...|100001|2018-10-02 16:29:01|2018-08-18 23:24:26|Miami-Fort Lauder...|   FL|       mac|\n",
      "|            New Boyz|Logged In|  Delaney|     F|           44|   Perez|178.80771| free|Miami-Fort Lauder...|   PUT|            NextSong|1534627466000|       51|Tie Me Down [feat...|   200|1538490859000|\"Mozilla/5.0 (Mac...|100001|2018-10-02 16:34:19|2018-08-18 23:24:26|Miami-Fort Lauder...|   FL|       mac|\n",
      "|         Snow Patrol|Logged In|  Delaney|     F|           45|   Perez|256.31302| free|Miami-Fort Lauder...|   PUT|            NextSong|1534627466000|       51|The Planets Bend ...|   200|1538491037000|\"Mozilla/5.0 (Mac...|100001|2018-10-02 16:37:17|2018-08-18 23:24:26|Miami-Fort Lauder...|   FL|       mac|\n",
      "|           The Shins|Logged In|  Delaney|     F|           46|   Perez|268.32934| free|Miami-Fort Lauder...|   PUT|            NextSong|1534627466000|       51|  Mild Child (Album)|   200|1538491293000|\"Mozilla/5.0 (Mac...|100001|2018-10-02 16:41:33|2018-08-18 23:24:26|Miami-Fort Lauder...|   FL|       mac|\n",
      "|       Dwight Yoakam|Logged In|  Delaney|     F|           47|   Perez| 239.3073| free|Miami-Fort Lauder...|   PUT|            NextSong|1534627466000|       51|      You're The One|   200|1538491561000|\"Mozilla/5.0 (Mac...|100001|2018-10-02 16:46:01|2018-08-18 23:24:26|Miami-Fort Lauder...|   FL|       mac|\n",
      "|    Five Iron Frenzy|Logged In|  Delaney|     F|           48|   Perez|236.09424| free|Miami-Fort Lauder...|   PUT|            NextSong|1534627466000|       51|              Canada|   200|1538491800000|\"Mozilla/5.0 (Mac...|100001|2018-10-02 16:50:00|2018-08-18 23:24:26|Miami-Fort Lauder...|   FL|       mac|\n",
      "|         John Powell|Logged In|  Delaney|     F|           49|   Perez|189.85751| free|Miami-Fort Lauder...|   PUT|            NextSong|1534627466000|       51|      Rescuing Penny|   200|1538492036000|\"Mozilla/5.0 (Mac...|100001|2018-10-02 16:53:56|2018-08-18 23:24:26|Miami-Fort Lauder...|   FL|       mac|\n",
      "|                null|Logged In|  Delaney|     F|           50|   Perez|     null| free|Miami-Fort Lauder...|   PUT|              Logout|1534627466000|       51|                null|   307|1538492037000|\"Mozilla/5.0 (Mac...|100001|2018-10-02 16:53:57|2018-08-18 23:24:26|Miami-Fort Lauder...|   FL|       mac|\n",
      "|                null|Logged In|  Delaney|     F|            2|   Perez|     null| free|Miami-Fort Lauder...|   GET|                Home|1534627466000|       53|                null|   200|1538494425000|\"Mozilla/5.0 (Mac...|100001|2018-10-02 17:33:45|2018-08-18 23:24:26|Miami-Fort Lauder...|   FL|       mac|\n",
      "|        Matt Pond PA|Logged In|  Delaney|     F|            3|   Perez|173.21751| free|Miami-Fort Lauder...|   PUT|            NextSong|1534627466000|       53|     KC (LP Version)|   200|1538494783000|\"Mozilla/5.0 (Mac...|100001|2018-10-02 17:39:43|2018-08-18 23:24:26|Miami-Fort Lauder...|   FL|       mac|\n",
      "|      Peter Frampton|Logged In|  Delaney|     F|            4|   Perez|471.69261| free|Miami-Fort Lauder...|   PUT|            NextSong|1534627466000|       53|  Most Of All (Live)|   200|1538494956000|\"Mozilla/5.0 (Mac...|100001|2018-10-02 17:42:36|2018-08-18 23:24:26|Miami-Fort Lauder...|   FL|       mac|\n",
      "|Beanfield feat. B...|Logged In|  Delaney|     F|            5|   Perez|594.20689| free|Miami-Fort Lauder...|   PUT|            NextSong|1534627466000|       53|Tides (C's Moveme...|   200|1538495427000|\"Mozilla/5.0 (Mac...|100001|2018-10-02 17:50:27|2018-08-18 23:24:26|Miami-Fort Lauder...|   FL|       mac|\n",
      "|Sopor Aeternus & ...|Logged In|  Delaney|     F|            6|   Perez|177.08363| free|Miami-Fort Lauder...|   PUT|            NextSong|1534627466000|       53|    La Mort d'Arthur|   200|1538496021000|\"Mozilla/5.0 (Mac...|100001|2018-10-02 18:00:21|2018-08-18 23:24:26|Miami-Fort Lauder...|   FL|       mac|\n",
      "|            Sanalejo|Logged In|  Delaney|     F|            7|   Perez|222.45832| free|Miami-Fort Lauder...|   PUT|            NextSong|1534627466000|       53|             Amapola|   200|1538496198000|\"Mozilla/5.0 (Mac...|100001|2018-10-02 18:03:18|2018-08-18 23:24:26|Miami-Fort Lauder...|   FL|       mac|\n",
      "|         Sheryl Crow|Logged In|  Delaney|     F|            8|   Perez|333.68771| free|Miami-Fort Lauder...|   PUT|            NextSong|1534627466000|       53|     I Shall Believe|   200|1538496420000|\"Mozilla/5.0 (Mac...|100001|2018-10-02 18:07:00|2018-08-18 23:24:26|Miami-Fort Lauder...|   FL|       mac|\n",
      "|Peter Bjorn And John|Logged In|  Delaney|     F|            9|   Perez|231.18322| free|Miami-Fort Lauder...|   PUT|            NextSong|1534627466000|       53|          Paris 2004|   200|1538496753000|\"Mozilla/5.0 (Mac...|100001|2018-10-02 18:12:33|2018-08-18 23:24:26|Miami-Fort Lauder...|   FL|       mac|\n",
      "|                null|Logged In|  Delaney|     F|           10|   Perez|     null| free|Miami-Fort Lauder...|   GET|         Roll Advert|1534627466000|       53|                null|   200|1538496839000|\"Mozilla/5.0 (Mac...|100001|2018-10-02 18:13:59|2018-08-18 23:24:26|Miami-Fort Lauder...|   FL|       mac|\n",
      "|            Natiruts|Logged In|  Delaney|     F|           11|   Perez|210.88608| free|Miami-Fort Lauder...|   PUT|            NextSong|1534627466000|       53|Jamaica Roots II(...|   200|1538496984000|\"Mozilla/5.0 (Mac...|100001|2018-10-02 18:16:24|2018-08-18 23:24:26|Miami-Fort Lauder...|   FL|       mac|\n",
      "|                null|Logged In|  Delaney|     F|           12|   Perez|     null| free|Miami-Fort Lauder...|   GET|                Help|1534627466000|       53|                null|   200|1538497010000|\"Mozilla/5.0 (Mac...|100001|2018-10-02 18:16:50|2018-08-18 23:24:26|Miami-Fort Lauder...|   FL|       mac|\n",
      "|      Bebel Gilberto|Logged In|  Delaney|     F|           13|   Perez|280.99873| free|Miami-Fort Lauder...|   PUT|            NextSong|1534627466000|       53|     Samba Da Bencao|   200|1538497194000|\"Mozilla/5.0 (Mac...|100001|2018-10-02 18:19:54|2018-08-18 23:24:26|Miami-Fort Lauder...|   FL|       mac|\n",
      "|Michael BublÃÂ© ...|Logged In|  Delaney|     F|           14|   Perez|284.36853| free|Miami-Fort Lauder...|   PUT|            NextSong|1534627466000|       53|Quando_ Quando_ Q...|   200|1538497474000|\"Mozilla/5.0 (Mac...|100001|2018-10-02 18:24:34|2018-08-18 23:24:26|Miami-Fort Lauder...|   FL|       mac|\n",
      "|           Lady GaGa|Logged In|  Delaney|     F|           15|   Perez|274.18077| free|Miami-Fort Lauder...|   PUT|            NextSong|1534627466000|       53|           Alejandro|   200|1538497758000|\"Mozilla/5.0 (Mac...|100001|2018-10-02 18:29:18|2018-08-18 23:24:26|Miami-Fort Lauder...|   FL|       mac|\n",
      "|                null|Logged In|  Delaney|     F|           16|   Perez|     null| free|Miami-Fort Lauder...|   PUT|              Logout|1534627466000|       53|                null|   307|1538497759000|\"Mozilla/5.0 (Mac...|100001|2018-10-02 18:29:19|2018-08-18 23:24:26|Miami-Fort Lauder...|   FL|       mac|\n",
      "|                null|Logged In|  Delaney|     F|           19|   Perez|     null| free|Miami-Fort Lauder...|   GET|                Home|1534627466000|       53|                null|   200|1538497786000|\"Mozilla/5.0 (Mac...|100001|2018-10-02 18:29:46|2018-08-18 23:24:26|Miami-Fort Lauder...|   FL|       mac|\n",
      "|            Harmonia|Logged In|  Delaney|     F|           20|   Perez|655.77751| free|Miami-Fort Lauder...|   PUT|            NextSong|1534627466000|       53|       Sehr kosmisch|   200|1538498032000|\"Mozilla/5.0 (Mac...|100001|2018-10-02 18:33:52|2018-08-18 23:24:26|Miami-Fort Lauder...|   FL|       mac|\n",
      "|                null|Logged In|  Delaney|     F|           21|   Perez|     null| free|Miami-Fort Lauder...|   GET|         Roll Advert|1534627466000|       53|                null|   200|1538498073000|\"Mozilla/5.0 (Mac...|100001|2018-10-02 18:34:33|2018-08-18 23:24:26|Miami-Fort Lauder...|   FL|       mac|\n",
      "|                null|Logged In|  Delaney|     F|           22|   Perez|     null| free|Miami-Fort Lauder...|   PUT|              Cancel|1534627466000|       53|                null|   307|1538498074000|\"Mozilla/5.0 (Mac...|100001|2018-10-02 18:34:34|2018-08-18 23:24:26|Miami-Fort Lauder...|   FL|       mac|\n",
      "|                null|Cancelled|  Delaney|     F|           23|   Perez|     null| free|Miami-Fort Lauder...|   GET|Cancellation Conf...|1534627466000|       53|                null|   200|1538498205000|\"Mozilla/5.0 (Mac...|100001|2018-10-02 18:36:45|2018-08-18 23:24:26|Miami-Fort Lauder...|   FL|       mac|\n",
      "+--------------------+---------+---------+------+-------------+--------+---------+-----+--------------------+------+--------------------+-------------+---------+--------------------+------+-------------+--------------------+------+-------------------+-------------------+--------------------+-----+----------+\n",
      "\n"
     ]
    }
   ],
   "source": [
    "spark.sql(\"\"\"\n",
    "            SELECT * FROM user_log_table\n",
    "            WHERE userId = 100001\n",
    "            ORDER BY userId, ts\n",
    "        \"\"\").show(5000)"
   ]
  },
  {
   "cell_type": "code",
   "execution_count": 194,
   "metadata": {},
   "outputs": [
    {
     "name": "stdout",
     "output_type": "stream",
     "text": [
      "+------+-----+------------+------------+----------+-------------+-----------------+--------------------+---------+---------+-----------+----------+---------------+-------------+-----+----+-----------+----------+\n",
      "|userId|level|regime_count|regime_start|regime_end|regime_lenght|regime_downgraded|date_fully_cancelled|next_song|thumbs_up|thumbs_down|add_friend|add_to_playlist|save_settings|error|help|roll_advert|userDevice|\n",
      "+------+-----+------------+------------+----------+-------------+-----------------+--------------------+---------+---------+-----------+----------+---------------+-------------+-----+----+-----------+----------+\n",
      "|    10| paid|           1|  2018-09-28|2018-12-03|           65|            false|                null|      673|       37|          4|        12|              9|            1|    0|   1|          1|       mac|\n",
      "|   100| paid|           1|  2018-09-26|2018-12-03|           67|             true|                null|     1604|       84|         14|        32|             43|            5|    1|   9|          2|        pc|\n",
      "|   100| free|           2|  2018-11-04|2018-12-03|           28|            false|                null|      231|       11|          1|         6|              4|            0|    1|   3|         21|        pc|\n",
      "|   100| free|           2|  2018-11-04|2018-11-14|            9|            false|                null|      231|       11|          1|         6|              4|            0|    1|   3|         21|        pc|\n",
      "|   100| paid|           3|  2018-11-14|2018-12-03|           18|            false|                null|      844|       53|         12|        11|             14|            0|    1|   6|          2|        pc|\n",
      "|100001| free|           1|  2018-08-18|2018-10-02|           44|            false|          2018-10-02|      132|        8|          2|         2|              3|            0|    1|   1|         14|       mac|\n",
      "|100001| free|           1|  2018-08-18|2018-12-03|          106|            false|                null|      132|        8|          2|         2|              3|            0|    1|   1|         14|       mac|\n",
      "|100002| paid|           1|  2018-06-25|2018-12-03|          160|            false|                null|      195|        5|          0|         1|              5|            0|    0|   0|          3|        pc|\n",
      "|100003| free|           1|  2018-09-19|2018-10-11|           22|            false|          2018-10-11|       51|        3|          0|         0|              2|            0|    0|   1|          9|        pc|\n",
      "|100003| free|           1|  2018-09-19|2018-12-03|           75|            false|                null|       51|        3|          0|         0|              2|            0|    0|   1|          9|        pc|\n",
      "|100004| free|           1|  2018-06-09|2018-12-03|          176|            false|                null|      129|        6|          0|         7|              1|            1|    0|   1|         21|        pc|\n",
      "|100004| paid|           2|  2018-10-15|2018-12-03|           48|             true|                null|       51|        4|          0|         1|              3|            0|    0|   0|          1|        pc|\n",
      "|100004| free|           3|  2018-10-18|2018-12-03|           45|            false|                null|       46|        0|          0|         1|              0|            0|    0|   0|         13|        pc|\n",
      "|100004| paid|           4|  2018-10-18|2018-12-03|           45|             true|                null|      146|        3|          1|         1|              6|            0|    0|   2|          3|        pc|\n",
      "|100004| free|           5|  2018-10-31|2018-12-03|           32|            false|                null|      310|       13|          9|         5|              7|            1|    2|   3|         45|        pc|\n",
      "|100004| paid|           6|  2018-11-27|2018-12-03|            5|            false|                null|      258|        9|          1|         4|              6|            0|    0|   0|          3|        pc|\n",
      "|100005| free|           1|  2018-07-26|2018-12-03|          129|            false|                null|      154|        7|          3|         3|              3|            0|    0|   2|         18|       mac|\n",
      "|100005| free|           1|  2018-07-26|2018-10-19|           85|            false|          2018-10-19|      154|        7|          3|         3|              3|            0|    0|   2|         18|       mac|\n",
      "|100006| free|           1|  2018-09-26|2018-10-05|            9|            false|          2018-10-05|       26|        2|          2|         4|              1|            0|    0|   0|          3|        pc|\n",
      "|100006| free|           1|  2018-09-26|2018-12-03|           67|            false|                null|       26|        2|          2|         4|              1|            0|    0|   0|          3|        pc|\n",
      "|100007| paid|           1|  2018-08-06|2018-12-03|          118|            false|                null|      423|       19|          6|        17|              9|            1|    0|   3|          5|        pc|\n",
      "|100007| paid|           1|  2018-08-06|2018-11-29|          115|            false|          2018-11-29|      423|       19|          6|        17|              9|            1|    0|   3|          5|        pc|\n",
      "|100008| paid|           1|  2018-09-20|2018-12-03|           73|             true|                null|      721|       36|          6|        15|             30|            0|    0|   6|         11|       mac|\n",
      "|100008| free|           2|  2018-11-20|2018-12-03|           12|            false|                null|       51|        1|          0|         2|              0|            0|    0|   0|          9|       mac|\n",
      "|100009| free|           1|  2018-09-19|2018-12-03|           74|            false|                null|       98|        3|          3|         1|              2|            0|    0|   1|         16|        pc|\n",
      "|100009| paid|           2|  2018-10-15|2018-12-03|           49|             true|                null|      279|        7|          1|         4|              7|            1|    0|   2|          1|        pc|\n",
      "|100009| free|           3|  2018-10-21|2018-10-27|            5|            false|          2018-10-27|      141|       13|          4|         2|              3|            0|    0|   3|         25|        pc|\n",
      "|100009| free|           3|  2018-10-21|2018-12-03|           42|            false|                null|      141|       13|          4|         2|              3|            0|    0|   3|         25|        pc|\n",
      "|100010| free|           1|  2018-09-27|2018-12-03|           66|            false|                null|      275|       17|          5|         4|              7|            0|    0|   2|         52|    mobile|\n",
      "|100011| free|           1|  2018-09-26|2018-10-01|            5|            false|          2018-10-01|       11|        0|          1|         0|              2|            0|    0|   0|          2|        pc|\n",
      "|100011| free|           1|  2018-09-26|2018-12-03|           67|            false|                null|       11|        0|          1|         0|              2|            0|    0|   0|          2|        pc|\n",
      "|100012| free|           1|  2018-09-19|2018-12-03|           74|            false|                null|       42|        2|          0|         1|              0|            0|    0|   1|          8|       mac|\n",
      "|100012| paid|           2|  2018-10-10|2018-12-03|           53|             true|                null|      221|        5|          4|         0|              5|            0|    0|   0|          1|       mac|\n",
      "|100012| free|           3|  2018-10-19|2018-11-01|           12|            false|          2018-11-01|      213|       11|          5|         1|              7|            0|    0|   1|         29|       mac|\n",
      "|100012| free|           3|  2018-10-19|2018-12-03|           44|            false|                null|      213|       11|          5|         1|              7|            0|    0|   1|         29|       mac|\n",
      "|100013| free|           1|  2018-09-19|2018-12-03|           74|            false|                null|      222|       10|          1|         5|              8|            1|    1|   4|         29|        pc|\n",
      "|100013| paid|           2|  2018-10-05|2018-12-03|           59|            false|                null|      908|       28|         14|        23|             23|            2|    1|   5|         10|        pc|\n",
      "|100013| paid|           2|  2018-10-05|2018-11-02|           28|            false|          2018-11-02|      908|       28|         14|        23|             23|            2|    1|   5|         10|        pc|\n",
      "|100014| paid|           1|  2018-08-27|2018-11-20|           85|            false|          2018-11-20|      257|       17|          3|         6|              7|            0|    0|   2|          2|        pc|\n",
      "|100014| paid|           1|  2018-08-27|2018-12-03|           97|            false|                null|      257|       17|          3|         6|              7|            0|    0|   2|          2|        pc|\n",
      "|100015| free|           1|  2018-09-17|2018-12-03|           76|            false|                null|      315|       14|          4|         7|             11|            0|    0|   1|         46|       mac|\n",
      "|100015| paid|           2|  2018-10-13|2018-12-03|           51|             true|                null|      106|        2|          0|         6|              4|            0|    1|   0|          0|       mac|\n",
      "|100015| free|           3|  2018-10-18|2018-12-03|           45|            false|                null|      159|        7|          3|         0|              2|            1|    0|   1|         20|       mac|\n",
      "|100015| paid|           4|  2018-11-02|2018-11-24|           22|            false|          2018-11-24|      219|       12|          1|         1|              5|            0|    0|   4|          3|       mac|\n",
      "|100015| paid|           4|  2018-11-02|2018-12-03|           30|            false|                null|      219|       12|          1|         1|              5|            0|    0|   4|          3|       mac|\n",
      "|100016| paid|           1|  2018-09-13|2018-12-03|           80|             true|                null|      456|       20|          4|        12|              5|            0|    1|   2|          6|        pc|\n",
      "|100016| free|           2|  2018-11-23|2018-12-03|            9|            false|                null|       73|        5|          1|         1|              1|            0|    0|   1|         10|        pc|\n",
      "|100017| free|           1|  2018-08-03|2018-10-20|           78|            false|          2018-10-20|       52|        2|          1|         0|              1|            0|    0|   0|         14|    mobile|\n",
      "|100017| free|           1|  2018-08-03|2018-12-03|          122|            false|                null|       52|        2|          1|         0|              1|            0|    0|   0|         14|    mobile|\n",
      "|100018| free|           1|  2018-08-09|2018-12-03|          115|            false|                null|      158|        8|          2|         8|              2|            2|    0|   2|         27|       mac|\n",
      "|100018| paid|           2|  2018-10-09|2018-12-03|           54|             true|                null|       16|        1|          0|         0|              1|            0|    0|   0|          0|       mac|\n",
      "|100018| free|           3|  2018-10-09|2018-10-20|           10|            false|                null|       31|        1|          1|         0|              0|            0|    0|   0|          6|       mac|\n",
      "|100018| free|           3|  2018-10-09|2018-12-03|           54|            false|                null|       31|        1|          1|         0|              0|            0|    0|   0|          6|       mac|\n",
      "|100018| paid|           4|  2018-10-20|2018-12-03|           43|             true|                null|      567|       25|          4|        12|             23|            0|    0|   3|          4|       mac|\n",
      "|100018| free|           5|  2018-11-26|2018-12-03|            6|            false|                null|      230|       11|          2|         3|              5|            1|    0|   2|         43|       mac|\n",
      "|100019| free|           1|  2018-09-06|2018-12-03|           87|            false|                null|       62|        1|          1|         2|              2|            0|    0|   1|         11|        pc|\n",
      "|100019| free|           1|  2018-09-06|2018-10-08|           31|            false|          2018-10-08|       62|        1|          1|         2|              2|            0|    0|   1|         11|        pc|\n",
      "|100021| free|           1|  2018-09-21|2018-11-25|           64|            false|          2018-11-25|      229|       11|          5|         7|              7|            0|    2|   0|         29|       mac|\n",
      "|100021| free|           1|  2018-09-21|2018-12-03|           72|            false|                null|      229|       11|          5|         7|              7|            0|    2|   0|         29|       mac|\n",
      "|100022| free|           1|  2018-09-25|2018-11-12|           47|            false|          2018-11-12|      681|       45|         20|        10|             14|            2|    1|   6|        115|       mac|\n",
      "|100022| free|           1|  2018-09-25|2018-12-03|           68|            false|                null|      681|       45|         20|        10|             14|            2|    1|   6|        115|       mac|\n",
      "|100023| free|           1|  2018-09-11|2018-12-03|           82|            false|                null|       26|        2|          0|         4|              1|            0|    0|   0|          3|        pc|\n",
      "|100023| paid|           2|  2018-10-05|2018-10-14|            8|            false|          2018-10-14|      381|        8|          2|        10|             10|            0|    0|   3|          3|        pc|\n",
      "|100023| paid|           2|  2018-10-05|2018-12-03|           58|            false|                null|      381|        8|          2|        10|             10|            0|    0|   3|          3|        pc|\n",
      "|100024| free|           1|  2018-09-07|2018-12-03|           86|            false|                null|       22|        5|          0|         0|              0|            0|    0|   0|          3|        pc|\n",
      "|100024| free|           1|  2018-09-07|2018-10-05|           27|            false|          2018-10-05|       22|        5|          0|         0|              0|            0|    0|   0|          3|        pc|\n",
      "|100025| paid|           1|  2018-07-26|2018-12-03|          129|             true|                null|      336|       14|          2|         0|              4|            3|    1|   4|          8|       mac|\n",
      "|100025| free|           2|  2018-10-19|2018-10-23|            3|            false|          2018-10-23|      153|        6|          5|         3|              5|            0|    0|   1|         22|       mac|\n",
      "|100025| free|           2|  2018-10-19|2018-12-03|           44|            false|                null|      153|        6|          5|         3|              5|            0|    0|   1|         22|       mac|\n",
      "|   101| free|           1|  2018-08-24|2018-12-03|          101|            false|                null|       54|        2|          1|         1|              1|            0|    0|   1|          7|        pc|\n",
      "|   101| paid|           2|  2018-10-02|2018-12-03|           61|            false|                null|     1741|       83|         15|        28|             60|            2|    3|  11|          1|        pc|\n",
      "|   101| paid|           2|  2018-10-02|2018-10-17|           14|            false|          2018-10-17|     1741|       83|         15|        28|             60|            2|    3|  11|          1|        pc|\n",
      "|   102| free|           1|  2018-09-26|2018-12-03|           68|            false|                null|      157|        6|          2|         0|              1|            0|    1|   0|         17|        pc|\n",
      "|   103| free|           1|  2018-09-23|2018-12-03|           70|            false|                null|      176|       12|          1|         2|             10|            1|    0|   3|         11|       mac|\n",
      "|   103| paid|           2|  2018-10-15|2018-12-03|           48|             true|                null|       69|        3|          2|         5|              3|            0|    0|   1|          0|       mac|\n",
      "|   103| free|           3|  2018-10-16|2018-12-03|           48|            false|                null|       18|        0|          0|         0|              0|            0|    0|   0|          2|       mac|\n",
      "|   103| paid|           4|  2018-10-19|2018-11-04|           15|            false|          2018-11-04|      810|       37|          6|        18|             29|            0|    0|   3|          1|       mac|\n",
      "|   103| paid|           4|  2018-10-19|2018-12-03|           44|            false|                null|      810|       37|          6|        18|             29|            0|    0|   3|          1|       mac|\n",
      "|   104| free|           1|  2018-07-25|2018-12-03|          130|            false|                null|      272|       16|          0|         2|              6|            1|    0|   1|         20|        pc|\n",
      "|   104| paid|           2|  2018-10-22|2018-12-03|           41|            false|                null|     1509|       68|         16|        21|             37|            1|    1|  14|          3|        pc|\n",
      "|   105| free|           1|  2018-09-13|2018-12-03|           80|            false|                null|       26|        0|          0|         0|              2|            0|    0|   0|          1|        pc|\n",
      "|   105| paid|           2|  2018-10-03|2018-10-12|            9|            false|          2018-10-12|      736|       45|          6|        13|             10|            3|    2|   2|          1|        pc|\n",
      "|   105| paid|           2|  2018-10-03|2018-12-03|           61|            false|                null|      736|       45|          6|        13|             10|            3|    2|   2|          1|        pc|\n",
      "|   106| free|           1|  2018-09-23|2018-12-03|           70|            false|                null|      106|        9|          1|         2|              4|            0|    0|   0|          4|       mac|\n",
      "|   106| paid|           2|  2018-10-04|2018-12-03|           59|            false|                null|      733|       34|          5|        27|             24|            1|    0|   5|          0|       mac|\n",
      "|   106| paid|           2|  2018-10-04|2018-11-02|           28|            false|          2018-11-02|      733|       34|          5|        27|             24|            1|    0|   5|          0|       mac|\n",
      "|   107| free|           1|  2018-09-07|2018-12-03|           86|            false|                null|      246|       14|          2|         2|             10|            1|    0|   0|         19|        pc|\n",
      "|   108| free|           1|  2018-09-29|2018-12-03|           64|            false|                null|      143|        7|          3|         3|              3|            1|    0|   0|         18|       mac|\n",
      "|   108| paid|           2|  2018-11-07|2018-12-03|           25|            false|                null|      490|       13|          3|        12|             12|            1|    0|   5|          1|       mac|\n",
      "|   109| free|           1|  2018-08-20|2018-12-03|          104|            false|                null|       33|        0|          1|         0|              0|            0|    0|   1|          3|        pc|\n",
      "|   109| paid|           2|  2018-10-07|2018-12-03|           56|             true|                null|      637|       22|          4|        12|             16|            1|    0|   9|          1|        pc|\n",
      "|   109| free|           3|  2018-11-12|2018-12-03|           20|            false|                null|       47|        1|          0|         0|              0|            0|    0|   0|          3|        pc|\n",
      "|    11| free|           1|  2018-07-25|2018-12-03|          130|            false|                null|       11|        0|          0|         0|              0|            1|    0|   0|          0|        pc|\n",
      "|    11| paid|           2|  2018-10-11|2018-12-03|           52|             true|                null|       12|        1|          0|         0|              1|            0|    0|   0|          0|        pc|\n",
      "|    11| free|           3|  2018-10-11|2018-12-03|           52|            false|                null|      444|       32|          7|         5|             12|            1|    0|   3|         38|        pc|\n",
      "|    11| paid|           4|  2018-11-16|2018-12-03|           16|            false|                null|      180|        7|          2|         1|              7|            0|    1|   0|          1|        pc|\n",
      "|   110| free|           1|  2018-09-23|2018-12-03|           70|            false|                null|      178|       14|          2|         7|              3|            0|    0|   0|         17|       mac|\n",
      "|   111| free|           1|  2018-09-08|2018-12-03|           85|            false|                null|       97|        4|          1|         6|              2|            0|    0|   0|          3|        pc|\n",
      "|   111| paid|           2|  2018-11-02|2018-12-03|           30|            false|                null|      599|       30|          5|        17|             19|            0|    2|   3|          0|        pc|\n",
      "|   112| free|           1|  2018-09-04|2018-12-03|           89|            false|                null|      215|        9|          3|         7|              7|            3|    0|   1|         21|        pc|\n",
      "+------+-----+------------+------------+----------+-------------+-----------------+--------------------+---------+---------+-----------+----------+---------------+-------------+-----+----+-----------+----------+\n",
      "only showing top 100 rows\n",
      "\n"
     ]
    }
   ],
   "source": [
    "user_regime = spark.sql(\"\"\"\n",
    "                        with errors_tab AS(\n",
    "                        SELECT\n",
    "                            userId, auth, page, level, ts/1000 ts, registration/1000 registration, userDevice,\n",
    "                            row_number() OVER(PARTITION BY userId ORDER BY userId, ts) record_number,\n",
    "                            CASE WHEN LEAD(page) OVER(PARTITION BY userId ORDER BY userId, ts) = 'Error' THEN 1 ELSE 0 END leads_to_error\n",
    "                        FROM user_log_table\n",
    "                        ),\n",
    "\n",
    "\n",
    "                        records_tab as(\n",
    "                        SELECT\n",
    "                            userId, page, level, ts, registration, userDevice, record_number,\n",
    "                            CASE WHEN auth = 'Cancelled' THEN ts END date_fully_cancelled,\n",
    "                            CASE WHEN LAG(level) OVER(PARTITION BY userId ORDER BY record_number) != level THEN 1 ELSE 0 END regime_change,\n",
    "                            CASE WHEN LEAD(level) OVER(PARTITION BY userId ORDER BY record_number) = 'free' and level = 'paid' THEN 1 ELSE 0 END downgrade_regime\n",
    "                        FROM errors_tab\n",
    "                        WHERE leads_to_error = 0\n",
    "                        ),\n",
    "\n",
    "\n",
    "                        regime_tab AS(\n",
    "                        SELECT userId, page, level, ts, registration, userDevice, record_number, date_fully_cancelled, downgrade_regime,\n",
    "                            SUM(regime_change) OVER(PARTITION BY userId ORDER BY record_number)+1 regime_count\n",
    "                        FROM records_tab),\n",
    "\n",
    "\n",
    "                        regime_dates AS(            \n",
    "                        SELECT userId, page, level, userDevice, record_number, FROM_UNIXTIME(date_fully_cancelled) date_fully_cancelled, downgrade_regime, regime_count,\n",
    "                            CASE\n",
    "                                WHEN regime_count = 1 THEN FROM_UNIXTIME(registration)\n",
    "                                WHEN regime_count > 1 THEN FROM_UNIXTIME(first_value(ts) OVER(PARTITION BY userId, regime_count))\n",
    "                            END regime_start,\n",
    "                            \n",
    "                            CASE\n",
    "                                WHEN regime_count = last_value(regime_count) OVER(PARTITION BY userId ORDER BY ts) AND date_fully_cancelled IS NULL THEN FROM_UNIXTIME((select max(ts) FROM records_tab))\n",
    "                                WHEN regime_count = last_value(regime_count) OVER(PARTITION BY userId ORDER BY ts) AND date_fully_cancelled IS NOT NULL THEN FROM_UNIXTIME(date_fully_cancelled)\n",
    "                                ELSE FROM_UNIXTIME(last_value(ts) OVER(PARTITION BY userId, regime_count))\n",
    "                            END regime_end\n",
    "                        FROM regime_tab)\n",
    "\n",
    "                        SELECT\n",
    "                            DISTINCT userId,\n",
    "                            level,\n",
    "                            regime_count,\n",
    "                            DATE(regime_start) regime_start,\n",
    "                            DATE(regime_end) regime_end,\n",
    "                            DATEDIFF(day, regime_start, regime_end) regime_lenght,\n",
    "                            SUM(downgrade_regime) OVER(PARTITION BY userId, regime_count) = 1 regime_downgraded,\n",
    "                            DATE(date_fully_cancelled) date_fully_cancelled,\n",
    "                            count_if(page = 'NextSong') OVER(PARTITION BY userId, regime_count) next_song,\n",
    "                            count_if(page = 'Thumbs Up') OVER(PARTITION BY userId, regime_count) thumbs_up,\n",
    "                            count_if(page = 'Thumbs Down') OVER(PARTITION BY userId, regime_count) thumbs_down,\n",
    "                            count_if(page = 'Add Friend') OVER(PARTITION BY userId, regime_count) add_friend,\n",
    "                            count_if(page = 'Add to Playlist') OVER(PARTITION BY userId, regime_count) add_to_playlist,\n",
    "                            count_if(page = 'Save Settings') OVER(PARTITION BY userId, regime_count) save_settings,\n",
    "                            count_if(page = 'Error') OVER(PARTITION BY userId, regime_count) error,\n",
    "                            count_if(page = 'Help') OVER(PARTITION BY userId, regime_count) help,\n",
    "                            count_if(page = 'Roll Advert') OVER(PARTITION BY userId, regime_count) roll_advert,\n",
    "                            userDevice\n",
    "                        FROM regime_dates\n",
    "                        ORDER BY userId, regime_count\n",
    "                        \n",
    "                        \"\"\")\n",
    "# store results in temporary view: user_regime_table\n",
    "user_regime.createOrReplaceTempView(\"user_regime_table\")\n",
    "user_regime.show(100)"
   ]
  },
  {
   "cell_type": "markdown",
   "metadata": {},
   "source": [
    "### Aggregate the `user_regime_table` data per User\n",
    "\n",
    "The aggregate table should have one row per user which contains all necessary information and can be used for ML model input."
   ]
  },
  {
   "cell_type": "code",
   "execution_count": 196,
   "metadata": {},
   "outputs": [
    {
     "name": "stdout",
     "output_type": "stream",
     "text": [
      "+------+------------+------------+---------------+------------------+---------------+---------+---------+-----------+----------+---------------+-------------+-----+----+-----------+----------+---------+-------------+\n",
      "|userId|paid_regimes|free_regimes|membership_days|downgraded_regimes|fully_cancelled|next_song|thumbs_up|thumbs_down|add_friend|add_to_playlist|save_settings|error|help|roll_advert|device_mac|device_pc|device_mobile|\n",
      "+------+------------+------------+---------------+------------------+---------------+---------+---------+-----------+----------+---------------+-------------+-----+----+-----------+----------+---------+-------------+\n",
      "|    10|           1|           0|             65|                 0|          false|      673|       37|          4|        12|              9|            1|    0|   1|          1|      true|    false|        false|\n",
      "|   100|           2|           2|            122|                 1|          false|     2910|      159|         28|        55|             65|            5|    4|  21|         46|     false|     true|        false|\n",
      "|100001|           0|           2|            150|                 0|           true|      264|       16|          4|         4|              6|            0|    2|   2|         28|      true|    false|        false|\n",
      "|100002|           1|           0|            160|                 0|          false|      195|        5|          0|         1|              5|            0|    0|   0|          3|     false|     true|        false|\n",
      "|100003|           0|           2|             97|                 0|           true|      102|        6|          0|         0|              4|            0|    0|   2|         18|     false|     true|        false|\n",
      "|100004|           3|           3|            351|                 2|          false|      940|       35|         11|        19|             23|            2|    2|   6|         86|     false|     true|        false|\n",
      "|100005|           0|           2|            214|                 0|           true|      308|       14|          6|         6|              6|            0|    0|   4|         36|      true|    false|        false|\n",
      "|100006|           0|           2|             76|                 0|           true|       52|        4|          4|         8|              2|            0|    0|   0|          6|     false|     true|        false|\n",
      "|100007|           2|           0|            233|                 0|           true|      846|       38|         12|        34|             18|            2|    0|   6|         10|     false|     true|        false|\n",
      "|100008|           1|           1|             85|                 1|          false|      772|       37|          6|        17|             30|            0|    0|   6|         20|      true|    false|        false|\n",
      "|100009|           1|           3|            170|                 1|           true|      659|       36|         12|         9|             15|            1|    0|   9|         67|     false|     true|        false|\n",
      "|100010|           0|           1|             66|                 0|          false|      275|       17|          5|         4|              7|            0|    0|   2|         52|     false|    false|         true|\n",
      "|100011|           0|           2|             72|                 0|           true|       22|        0|          2|         0|              4|            0|    0|   0|          4|     false|     true|        false|\n",
      "|100012|           1|           3|            183|                 1|           true|      689|       29|         14|         3|             19|            0|    0|   3|         67|      true|    false|        false|\n",
      "|100013|           2|           1|            161|                 0|           true|     2038|       66|         29|        51|             54|            5|    3|  14|         49|     false|     true|        false|\n",
      "|100014|           2|           0|            182|                 0|           true|      514|       34|          6|        12|             14|            0|    0|   4|          4|     false|     true|        false|\n",
      "|100015|           3|           2|            224|                 1|           true|     1018|       47|          9|        15|             27|            1|    1|  10|         72|      true|    false|        false|\n",
      "|100016|           1|           1|             89|                 1|          false|      529|       25|          5|        13|              6|            0|    1|   3|         16|     false|     true|        false|\n",
      "|100017|           0|           2|            200|                 0|           true|      104|        4|          2|         0|              2|            0|    0|   0|         28|     false|    false|         true|\n",
      "|100018|           2|           4|            282|                 2|          false|     1033|       47|         10|        23|             31|            3|    0|   7|         86|      true|    false|        false|\n",
      "+------+------------+------------+---------------+------------------+---------------+---------+---------+-----------+----------+---------------+-------------+-----+----+-----------+----------+---------+-------------+\n",
      "only showing top 20 rows\n",
      "\n"
     ]
    }
   ],
   "source": [
    "spark.sql(\"\"\"\n",
    "            SELECT\n",
    "                userId,\n",
    "                count_if(level = 'paid') paid_regimes,\n",
    "                count_if(level = 'free') free_regimes,\n",
    "                sum(regime_lenght) membership_days,\n",
    "                count_if(regime_downgraded = 'true') downgraded_regimes,\n",
    "                max(date_fully_cancelled) IS NOT NULL fully_cancelled,\n",
    "                sum(next_song) next_song,\n",
    "                sum(thumbs_up) thumbs_up,\n",
    "                sum(thumbs_down) thumbs_down,\n",
    "                sum(add_friend) add_friend,\n",
    "                sum(add_to_playlist) add_to_playlist,\n",
    "                sum(save_settings) save_settings,\n",
    "                sum(error) error,\n",
    "                sum(help) help,\n",
    "                sum(roll_advert) roll_advert,\n",
    "                count_if(userDevice = 'mac')>0 device_mac,\n",
    "                count_if(userDevice = 'pc')>0 device_pc,\n",
    "                count_if(userDevice = 'mobile')>0 device_mobile\n",
    "            FROM\n",
    "                user_regime_table\n",
    "            GROUP BY\n",
    "                userId\n",
    "            ORDER BY\n",
    "                userId\n",
    "            \"\"\").show()"
   ]
  },
  {
   "cell_type": "code",
   "execution_count": 50,
   "metadata": {},
   "outputs": [
    {
     "name": "stdout",
     "output_type": "stream",
     "text": [
      "+---------+------+\n",
      "|     auth| count|\n",
      "+---------+------+\n",
      "|Cancelled|    52|\n",
      "|Logged In|278102|\n",
      "+---------+------+\n",
      "\n"
     ]
    }
   ],
   "source": [
    "user_log.select(\"auth\").groupby(\"auth\").count().show()"
   ]
  },
  {
   "cell_type": "code",
   "execution_count": 51,
   "metadata": {},
   "outputs": [
    {
     "name": "stdout",
     "output_type": "stream",
     "text": [
      "+------+------+\n",
      "|gender| count|\n",
      "+------+------+\n",
      "|     F|154578|\n",
      "|     M|123576|\n",
      "+------+------+\n",
      "\n"
     ]
    }
   ],
   "source": [
    "user_log.select(\"gender\").groupby(\"gender\").count().show()"
   ]
  },
  {
   "cell_type": "code",
   "execution_count": 52,
   "metadata": {},
   "outputs": [
    {
     "name": "stdout",
     "output_type": "stream",
     "text": [
      "+-----+------+\n",
      "|level| count|\n",
      "+-----+------+\n",
      "| paid|222433|\n",
      "| free| 55721|\n",
      "+-----+------+\n",
      "\n"
     ]
    }
   ],
   "source": [
    "user_log.select(\"level\").groupby(\"level\").count().orderBy(\"count\", ascending=False).show()\n"
   ]
  },
  {
   "cell_type": "code",
   "execution_count": 53,
   "metadata": {},
   "outputs": [
    {
     "name": "stdout",
     "output_type": "stream",
     "text": [
      "+--------------------+------+\n",
      "|                page| count|\n",
      "+--------------------+------+\n",
      "|            NextSong|228108|\n",
      "|           Thumbs Up| 12551|\n",
      "|                Home| 10082|\n",
      "|     Add to Playlist|  6526|\n",
      "|          Add Friend|  4277|\n",
      "|         Roll Advert|  3933|\n",
      "|              Logout|  3226|\n",
      "|         Thumbs Down|  2546|\n",
      "|           Downgrade|  2055|\n",
      "|            Settings|  1514|\n",
      "|                Help|  1454|\n",
      "|             Upgrade|   499|\n",
      "|               About|   495|\n",
      "|       Save Settings|   310|\n",
      "|               Error|   252|\n",
      "|      Submit Upgrade|   159|\n",
      "|    Submit Downgrade|    63|\n",
      "|              Cancel|    52|\n",
      "|Cancellation Conf...|    52|\n",
      "+--------------------+------+\n",
      "\n"
     ]
    }
   ],
   "source": [
    "user_log.select(\"page\").groupby(\"page\").count().orderBy(\"count\", ascending=False).show()"
   ]
  },
  {
   "cell_type": "code",
   "execution_count": null,
   "metadata": {},
   "outputs": [],
   "source": [
    "user_log.select(\"userDevice\").groupby(\"userDevice\").count().orderBy(\"count\", ascending=False).show()"
   ]
  },
  {
   "cell_type": "code",
   "execution_count": null,
   "metadata": {},
   "outputs": [],
   "source": [
    "spark.sql('''\n",
    "        SELECT artist, count(*) as count\n",
    "        FROM user_log_table\n",
    "        WHERE artist is not null\n",
    "        GROUP BY artist\n",
    "        ORDER BY count(*) DESC\n",
    "        ''').show()"
   ]
  },
  {
   "cell_type": "code",
   "execution_count": null,
   "metadata": {},
   "outputs": [],
   "source": [
    "spark.sql('''\n",
    "        SELECT song, count(*) as count\n",
    "        FROM user_log_table\n",
    "        WHERE song is not null\n",
    "        GROUP BY song\n",
    "        ORDER BY count(*) DESC\n",
    "        ''').show()"
   ]
  },
  {
   "cell_type": "code",
   "execution_count": null,
   "metadata": {},
   "outputs": [],
   "source": [
    "spark.sql('''\n",
    "        SELECT artist, song, count(*) as count\n",
    "        FROM user_log_table\n",
    "        WHERE\n",
    "            song is not null\n",
    "            AND artist is not null\n",
    "        GROUP BY artist, song\n",
    "        ORDER BY artist, count(*) DESC\n",
    "        ''').show()"
   ]
  },
  {
   "cell_type": "code",
   "execution_count": null,
   "metadata": {},
   "outputs": [],
   "source": [
    "df_membership_days = spark.sql('''\n",
    "                                SELECT userId, max(membership_days)\n",
    "                                FROM user_log_table\n",
    "                                GROUP BY userId\n",
    "                                ORDER BY max(membership_days) DESC\n",
    "                                ''').toPandas()"
   ]
  },
  {
   "cell_type": "code",
   "execution_count": null,
   "metadata": {},
   "outputs": [],
   "source": [
    "df_membership_days.plot(kind='hist', title='Membership in Days', legend=False, figsize=(10,6));"
   ]
  },
  {
   "cell_type": "code",
   "execution_count": null,
   "metadata": {},
   "outputs": [],
   "source": [
    "spark.sql('''\n",
    "            SELECT userId, max(membership_days)\n",
    "            FROM user_log_table\n",
    "            WHERE page = 'Cancellation Confirmation'\n",
    "            GROUP BY userId\n",
    "            ORDER BY max(membership_days) DESC\n",
    "            ''').show()"
   ]
  },
  {
   "cell_type": "code",
   "execution_count": null,
   "metadata": {},
   "outputs": [],
   "source": [
    "spark.sql('''\n",
    "            with pretab as(\n",
    "            SELECT userId, max(membership_days)\n",
    "            FROM user_log_table\n",
    "            WHERE page = 'Cancellation Confirmation'\n",
    "            GROUP BY userId\n",
    "            ORDER BY max(membership_days) DESC\n",
    "            )\n",
    "            SELECT pretab.userId, count(*) records, max(membership_days)\n",
    "            FROM\n",
    "                user_log_table\n",
    "                INNER JOIN pretab on pretab.userId = user_log_table.userId\n",
    "            GROUP BY pretab.userId\n",
    "            ORDER BY max(membership_days) desc\n",
    "            ''').show()"
   ]
  },
  {
   "cell_type": "code",
   "execution_count": null,
   "metadata": {},
   "outputs": [],
   "source": [
    "df_cancelled_userId = user_log.select('userId').filter(user_log.page == 'Cancellation Confirmation').drop_duplicates()"
   ]
  },
  {
   "cell_type": "code",
   "execution_count": null,
   "metadata": {},
   "outputs": [],
   "source": [
    "df_cancelled_userId.createOrReplaceTempView(\"cancelled_users_table\")"
   ]
  },
  {
   "cell_type": "code",
   "execution_count": null,
   "metadata": {},
   "outputs": [],
   "source": [
    "spark.sql('''\n",
    "            with is_home as(\n",
    "            SELECT\n",
    "                userID, page, ts,\n",
    "                CASE WHEN page = 'Home' THEN 1 ELSE 0 END AS is_home                \n",
    "            FROM user_log_table\n",
    "            WHERE\n",
    "                (page = 'NextSong') or (page = 'Home')\n",
    "            ),\n",
    "            cum_sum as (\n",
    "            SELECT *, sum(is_home) OVER(PARTITION BY userID ORDER BY ts DESC ROWS BETWEEN UNBOUNDED PRECEDING AND CURRENT ROW) as period\n",
    "            FROM is_home\n",
    "            )\n",
    "            SELECT AVG(count_results)\n",
    "            FROM (\n",
    "                SELECT COUNT(*) AS count_results FROM cum_sum\n",
    "                GROUP BY userID, period, page HAVING page = 'NextSong'\n",
    "            ) as counts\n",
    "                \n",
    "            ''').show()"
   ]
  },
  {
   "cell_type": "code",
   "execution_count": null,
   "metadata": {},
   "outputs": [],
   "source": [
    "spark.sql('''\n",
    "            with is_home as(\n",
    "            SELECT\n",
    "                userId, auth, page, ts,\n",
    "                CASE WHEN page = 'Home' THEN 1 ELSE 0 END AS is_home                \n",
    "            FROM user_log_table\n",
    "            WHERE\n",
    "                (page = 'NextSong') or (page = 'Home')\n",
    "            ),\n",
    "            cum_sum as (\n",
    "            SELECT *, sum(is_home) OVER(PARTITION BY userID ORDER BY ts DESC ROWS BETWEEN UNBOUNDED PRECEDING AND CURRENT ROW) as period\n",
    "            FROM is_home\n",
    "            )\n",
    "            SELECT \"cancelled_users\" as user_state, AVG(count_results) as \n",
    "            FROM (\n",
    "                SELECT COUNT(*) AS count_results FROM cum_sum WHERE userId in (select userId from cancelled_users_table)\n",
    "                GROUP BY userID, period, page HAVING page = 'NextSong'\n",
    "            ) as counts\n",
    "            \n",
    "            UNION\n",
    "            \n",
    "            SELECT \"active_users\" as user_state, AVG(count_results)\n",
    "            FROM (\n",
    "                SELECT COUNT(*) AS count_results FROM cum_sum WHERE userId not in (select userId from cancelled_users_table)\n",
    "                GROUP BY userID, period, page HAVING page = 'NextSong'\n",
    "            ) as counts\n",
    "            \n",
    "            \n",
    "            ''').show()"
   ]
  },
  {
   "cell_type": "code",
   "execution_count": null,
   "metadata": {},
   "outputs": [],
   "source": [
    "spark.sql('''\n",
    "            with is_home as(\n",
    "            SELECT\n",
    "                userId, auth, page, ts,\n",
    "                CASE WHEN page = 'Home' THEN 1 ELSE 0 END AS is_home                \n",
    "            FROM user_log_table\n",
    "            WHERE\n",
    "                (page = 'NextSong') or (page = 'Home')\n",
    "            ),\n",
    "            cum_sum as (\n",
    "            SELECT *, sum(is_home) OVER(PARTITION BY userID ORDER BY ts DESC ROWS BETWEEN UNBOUNDED PRECEDING AND CURRENT ROW) as period\n",
    "            FROM is_home\n",
    "            )\n",
    "            \n",
    "            select userId,  from cum_sum\n",
    "            \n",
    "                \n",
    "            ''').show()"
   ]
  },
  {
   "cell_type": "code",
   "execution_count": null,
   "metadata": {},
   "outputs": [],
   "source": [
    "spark.sql('''\n",
    "            SELECT userId, auth, ts, ts_iso, page, sessionId\n",
    "            FROM user_log_table\n",
    "            WHERE (page = 'Home' or page = 'NextSong')\n",
    "                and userId=10\n",
    "            ORDER BY userId, ts asc\n",
    "            ''').show(1000)"
   ]
  },
  {
   "cell_type": "markdown",
   "metadata": {},
   "source": [
    "### Todo\n",
    "\n",
    "To understand how users interact with the platform, need to know:\n",
    "\n",
    "* Songs per session\n",
    "* Session count\n",
    "* Session frequency\n",
    "    * Sessions over membership days\n",
    "    * Avg time between sessions\n",
    "\n",
    "Need to differentiate between cancelled and active users (makes sense to add `cancelled` indicator to user_log dataframe)"
   ]
  },
  {
   "cell_type": "code",
   "execution_count": null,
   "metadata": {},
   "outputs": [],
   "source": []
  },
  {
   "cell_type": "code",
   "execution_count": null,
   "metadata": {},
   "outputs": [],
   "source": []
  },
  {
   "cell_type": "code",
   "execution_count": null,
   "metadata": {},
   "outputs": [],
   "source": []
  },
  {
   "cell_type": "code",
   "execution_count": null,
   "metadata": {},
   "outputs": [],
   "source": []
  },
  {
   "cell_type": "code",
   "execution_count": null,
   "metadata": {},
   "outputs": [],
   "source": []
  },
  {
   "cell_type": "code",
   "execution_count": null,
   "metadata": {},
   "outputs": [],
   "source": []
  },
  {
   "cell_type": "code",
   "execution_count": null,
   "metadata": {},
   "outputs": [],
   "source": []
  },
  {
   "cell_type": "markdown",
   "metadata": {},
   "source": [
    "# Feature Engineering\n",
    "\n",
    "* User inactivity: if a user only listens to a handful of songs per month or no songs at all, a cancellation might be likely\n",
    "    * The ratio of songs listend over time being a paying client might be a good predictor\n",
    "* Number of thumbs up/down they gave before cancelling"
   ]
  },
  {
   "cell_type": "code",
   "execution_count": null,
   "metadata": {},
   "outputs": [],
   "source": []
  },
  {
   "cell_type": "markdown",
   "metadata": {},
   "source": [
    "# Modeling\n",
    "\n",
    "In version 3.3.2 spark supports the following classification algorithms:\n",
    "\n",
    "* Logistic regression\n",
    "    * Binomial logistic regression\n",
    "    * Multinomial logistic regression\n",
    "* Decision tree classifier\n",
    "* Random forest classifier\n",
    "* Gradient-boosted tree classifier\n",
    "* Multilayer perceptron classifier\n",
    "* Linear Support Vector Machine\n",
    "* One-vs-Rest classifier (a.k.a. One-vs-All)\n",
    "* Naive Bayes\n",
    "* Factorization machines classifier\n",
    "\n",
    "We'll choose the four most popular: Logistic regression, Random forest classifier, Gradient-boosted tree classifier and Linear Support Vector Machine"
   ]
  },
  {
   "cell_type": "code",
   "execution_count": null,
   "metadata": {},
   "outputs": [],
   "source": []
  }
 ],
 "metadata": {
  "kernelspec": {
   "display_name": "Python 3 (ipykernel)",
   "language": "python",
   "name": "python3"
  },
  "language_info": {
   "codemirror_mode": {
    "name": "ipython",
    "version": 3
   },
   "file_extension": ".py",
   "mimetype": "text/x-python",
   "name": "python",
   "nbconvert_exporter": "python",
   "pygments_lexer": "ipython3",
   "version": "3.10.9"
  }
 },
 "nbformat": 4,
 "nbformat_minor": 1
}
