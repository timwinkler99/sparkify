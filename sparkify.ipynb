{
 "cells": [
  {
   "cell_type": "markdown",
   "metadata": {},
   "source": [
    "# Sparkify Data Science Nanodegree Capstone Project\n",
    "\n",
    "* The goal of this data science project is to predict user churn, i.e., identify what causes users to create a subscription or cancel it respectively.\n",
    "* Instead of using the pandas library, we instead use the Apache Spark framework, which is build for big data analysis running on clusters.\n",
    "* The dataset used is only a fraction of the original dataset, which is about 12GB large and stored on AWS S3 (in a first step we use the small dataset; later we'll run this notebook on an AWS EMR Cluster)"
   ]
  },
  {
   "cell_type": "markdown",
   "metadata": {},
   "source": [
    "# Set up Spark and other Dependencies"
   ]
  },
  {
   "cell_type": "code",
   "execution_count": 2,
   "metadata": {},
   "outputs": [],
   "source": [
    "from pyspark.sql import SparkSession\n",
    "from pyspark.sql.functions import udf, split, trim, expr, datediff, from_unixtime\n",
    "\n",
    "from pyspark.ml.feature import RegexTokenizer, CountVectorizer, IDF, StringIndexer, Normalizer, StandardScaler, VectorAssembler\n",
    "from pyspark.ml.classification import LogisticRegression, RandomForestClassifier, GBTClassifier, LinearSVC\n",
    "from pyspark.ml import Pipeline\n",
    "from pyspark.ml.tuning import CrossValidator, ParamGridBuilder\n",
    "from pyspark.ml.evaluation import MulticlassClassificationEvaluator\n",
    "\n",
    "\n",
    "import datetime\n",
    "import pandas as pd\n",
    "import matplotlib.pyplot as plt\n",
    "import seaborn as sns\n",
    "sns.set_theme()"
   ]
  },
  {
   "cell_type": "code",
   "execution_count": 4,
   "metadata": {},
   "outputs": [],
   "source": [
    "spark = SparkSession \\\n",
    "    .builder \\\n",
    "    .appName(\"sparkify\") \\\n",
    "    .getOrCreate()"
   ]
  },
  {
   "cell_type": "code",
   "execution_count": 5,
   "metadata": {},
   "outputs": [
    {
     "data": {
      "text/html": [
       "\n",
       "            <div>\n",
       "                <p><b>SparkSession - in-memory</b></p>\n",
       "                \n",
       "        <div>\n",
       "            <p><b>SparkContext</b></p>\n",
       "\n",
       "            <p><a href=\"http://tims-macbook-pro.fritz.box:4040\">Spark UI</a></p>\n",
       "\n",
       "            <dl>\n",
       "              <dt>Version</dt>\n",
       "                <dd><code>v3.3.2</code></dd>\n",
       "              <dt>Master</dt>\n",
       "                <dd><code>local[*]</code></dd>\n",
       "              <dt>AppName</dt>\n",
       "                <dd><code>sparkify</code></dd>\n",
       "            </dl>\n",
       "        </div>\n",
       "        \n",
       "            </div>\n",
       "        "
      ],
      "text/plain": [
       "<pyspark.sql.session.SparkSession at 0x13fc02fb0>"
      ]
     },
     "execution_count": 5,
     "metadata": {},
     "output_type": "execute_result"
    }
   ],
   "source": [
    "spark"
   ]
  },
  {
   "cell_type": "code",
   "execution_count": 6,
   "metadata": {},
   "outputs": [
    {
     "name": "stderr",
     "output_type": "stream",
     "text": [
      "\r",
      "[Stage 0:====>                                                    (1 + 11) / 12]\r",
      "\r",
      "                                                                                \r"
     ]
    }
   ],
   "source": [
    "path = \"mini_sparkify_event_data.json\"\n",
    "user_log = spark.read.json(path)"
   ]
  },
  {
   "cell_type": "markdown",
   "metadata": {},
   "source": [
    "Run the cell below to increase width of notebook. Will be needed for SQL data operations."
   ]
  },
  {
   "cell_type": "code",
   "execution_count": 7,
   "metadata": {},
   "outputs": [
    {
     "data": {
      "text/html": [
       "<style>.container { width:90% !important; }</style>"
      ],
      "text/plain": [
       "<IPython.core.display.HTML object>"
      ]
     },
     "metadata": {},
     "output_type": "display_data"
    },
    {
     "data": {
      "text/html": [
       "<style>pre { white-space: pre !important; }</style>"
      ],
      "text/plain": [
       "<IPython.core.display.HTML object>"
      ]
     },
     "metadata": {},
     "output_type": "display_data"
    }
   ],
   "source": [
    "from IPython.display import display, HTML\n",
    "display(HTML(\"<style>.container { width:90% !important; }</style>\"))\n",
    "# display(HTML(\"<style>.output_result { max-width:100% !important; }</style>\"))\n",
    "display(HTML(\"<style>pre { white-space: pre !important; }</style>\"))"
   ]
  },
  {
   "cell_type": "markdown",
   "metadata": {},
   "source": [
    "# Data Exploration\n",
    "\n",
    "To learn more about the users the follwoing questions need to answered:\n",
    "\n",
    "\n",
    "## Who are the Users?\n",
    "\n",
    "* What gender do users have?\n",
    "* Where do they live?\n",
    "* What are their favorite artists/songs?\n",
    "\n",
    "## How do they interact with the Platform?\n",
    "\n",
    "### Platform Usage\n",
    "\n",
    "* How often do they use the platform?\n",
    "* Do users who cancel their subscription don't use the platform or do they and might not like it?\n",
    "* How long is an average session per user?\n",
    "* What devices do they use to access the platform?\n",
    "\n",
    "### Subscription Behavior\n",
    "\n",
    "* How often do users switch their subscription level (paid/free)\n",
    "* Is there a leading indicator that a user might cancel his paid subscriptions, e.g., high count of thumbs down\n",
    "\n"
   ]
  },
  {
   "cell_type": "code",
   "execution_count": 8,
   "metadata": {},
   "outputs": [
    {
     "name": "stdout",
     "output_type": "stream",
     "text": [
      "root\n",
      " |-- artist: string (nullable = true)\n",
      " |-- auth: string (nullable = true)\n",
      " |-- firstName: string (nullable = true)\n",
      " |-- gender: string (nullable = true)\n",
      " |-- itemInSession: long (nullable = true)\n",
      " |-- lastName: string (nullable = true)\n",
      " |-- length: double (nullable = true)\n",
      " |-- level: string (nullable = true)\n",
      " |-- location: string (nullable = true)\n",
      " |-- method: string (nullable = true)\n",
      " |-- page: string (nullable = true)\n",
      " |-- registration: long (nullable = true)\n",
      " |-- sessionId: long (nullable = true)\n",
      " |-- song: string (nullable = true)\n",
      " |-- status: long (nullable = true)\n",
      " |-- ts: long (nullable = true)\n",
      " |-- userAgent: string (nullable = true)\n",
      " |-- userId: string (nullable = true)\n",
      "\n"
     ]
    }
   ],
   "source": [
    "user_log.printSchema()"
   ]
  },
  {
   "cell_type": "code",
   "execution_count": 9,
   "metadata": {},
   "outputs": [
    {
     "data": {
      "text/plain": [
       "Row(artist='Martha Tilston', auth='Logged In', firstName='Colin', gender='M', itemInSession=50, lastName='Freeman', length=277.89016, level='paid', location='Bakersfield, CA', method='PUT', page='NextSong', registration=1538173362000, sessionId=29, song='Rockpools', status=200, ts=1538352117000, userAgent='Mozilla/5.0 (Windows NT 6.1; WOW64; rv:31.0) Gecko/20100101 Firefox/31.0', userId='30')"
      ]
     },
     "execution_count": 9,
     "metadata": {},
     "output_type": "execute_result"
    }
   ],
   "source": [
    "user_log.head()"
   ]
  },
  {
   "cell_type": "markdown",
   "metadata": {},
   "source": [
    "Since we are interested in predicting user behavior, actions recorded in the dataset need to be attributed to a userid. For records without a userId we are not able to draw conclusions on the behaviour."
   ]
  },
  {
   "cell_type": "code",
   "execution_count": 10,
   "metadata": {},
   "outputs": [
    {
     "name": "stdout",
     "output_type": "stream",
     "text": [
      "8346 records in the dataset have no userId. They will be dropped\n",
      "0 records in the dataset have no userId.\n"
     ]
    }
   ],
   "source": [
    "print('{} records in the dataset have no userId. They will be dropped'.format(user_log.filter(user_log.userId == '').count()))\n",
    "user_log = user_log.where(user_log.userId != '')\n",
    "print('{} records in the dataset have no userId.'.format(user_log.filter(user_log.userId == '').count()))\n"
   ]
  },
  {
   "cell_type": "markdown",
   "metadata": {},
   "source": [
    "The timestamp format is not in a readable format. By creating the user defined function `get_datetime` and applying this function onto the ts column we obtain the dateTime column which has a convenient format"
   ]
  },
  {
   "cell_type": "code",
   "execution_count": 11,
   "metadata": {},
   "outputs": [],
   "source": [
    "# get_datetime = udf(lambda x: datetime.datetime.fromtimestamp(x / 1000.0).strftime(\"%Y-%m-%d %H:%M:%S\"))\n",
    "\n",
    "# user_log = user_log.withColumn(\"ts_iso\", get_datetime(user_log.ts)) \\\n",
    "#             .withColumn(\"registration_iso\", get_datetime(user_log.registration))\n",
    "\n",
    "# use pysparks built-in function to handel unix timestamps (divide by 1000 to convert from milliseconds)\n",
    "user_log = user_log.withColumn(\"ts_iso\", from_unixtime(user_log.ts/1000)) \\\n",
    "                .withColumn(\"registration_iso\", from_unixtime(user_log.registration/1000))"
   ]
  },
  {
   "cell_type": "markdown",
   "metadata": {},
   "source": [
    "The location column contains both city and state, we want to isolate both of them into seperate columns"
   ]
  },
  {
   "cell_type": "code",
   "execution_count": 12,
   "metadata": {},
   "outputs": [],
   "source": [
    "user_log = user_log.withColumn('city', trim(split(user_log['location'], ',').getItem(0))) \\\n",
    "            .withColumn('state', trim(split(user_log['location'], ',').getItem(1)))"
   ]
  },
  {
   "cell_type": "markdown",
   "metadata": {},
   "source": [
    "The userAgent columns contains information about which end-device was used to access the platform. Therfore it is usefull to learn something about the platform's users"
   ]
  },
  {
   "cell_type": "code",
   "execution_count": 13,
   "metadata": {},
   "outputs": [],
   "source": [
    "user_log = user_log.withColumn('userDevice', expr(\"CASE WHEN lower(userAgent) LIKE '%windows%' THEN 'pc'\"+\n",
    "                                       \"WHEN lower(userAgent) LIKE '%macintosh%' THEN 'mac'\" +\n",
    "                                        \"WHEN lower(userAgent) LIKE '%linux%' THEN 'pc'\" +\n",
    "                                        \"WHEN lower(userAgent) LIKE '%iphone%' THEN 'mobile'\" +\n",
    "                                        \"WHEN lower(userAgent) LIKE '%ipad%' THEN 'mobile'\" +\n",
    "                                        \"ELSE 'other'\" +\n",
    "                                        \"END\"))"
   ]
  },
  {
   "cell_type": "code",
   "execution_count": 14,
   "metadata": {},
   "outputs": [
    {
     "data": {
      "text/plain": [
       "Row(artist='Martha Tilston', auth='Logged In', firstName='Colin', gender='M', itemInSession=50, lastName='Freeman', length=277.89016, level='paid', location='Bakersfield, CA', method='PUT', page='NextSong', registration=1538173362000, sessionId=29, song='Rockpools', status=200, ts=1538352117000, userAgent='Mozilla/5.0 (Windows NT 6.1; WOW64; rv:31.0) Gecko/20100101 Firefox/31.0', userId='30', ts_iso='2018-10-01 02:01:57', registration_iso='2018-09-29 00:22:42', city='Bakersfield', state='CA', userDevice='pc')"
      ]
     },
     "execution_count": 14,
     "metadata": {},
     "output_type": "execute_result"
    }
   ],
   "source": [
    "user_log.head()"
   ]
  },
  {
   "cell_type": "markdown",
   "metadata": {},
   "source": [
    "## Leveraging PySpark's SQL Function for Data Exploration"
   ]
  },
  {
   "cell_type": "code",
   "execution_count": 16,
   "metadata": {},
   "outputs": [],
   "source": [
    "# create temporary view against which SQL queries can be run\n",
    "user_log.createOrReplaceTempView(\"user_log_table\")"
   ]
  },
  {
   "cell_type": "code",
   "execution_count": 206,
   "metadata": {},
   "outputs": [],
   "source": [
    "df_user = spark.sql(\"\"\"\n",
    "                    SELECT DISTINCT userId, auth, gender, city, state, userDevice\n",
    "                    FROM user_log_table\n",
    "                    ORDER BY userId\n",
    "                    \"\"\")"
   ]
  },
  {
   "cell_type": "code",
   "execution_count": 207,
   "metadata": {},
   "outputs": [
    {
     "name": "stdout",
     "output_type": "stream",
     "text": [
      "+---------+-----+\n",
      "|     auth|count|\n",
      "+---------+-----+\n",
      "|Cancelled|   52|\n",
      "|Logged In|  225|\n",
      "+---------+-----+\n",
      "\n"
     ]
    }
   ],
   "source": [
    "df_user.groupBy('auth').count().show()"
   ]
  },
  {
   "cell_type": "code",
   "execution_count": 196,
   "metadata": {},
   "outputs": [
    {
     "name": "stdout",
     "output_type": "stream",
     "text": [
      "+------+-----+\n",
      "|gender|count|\n",
      "+------+-----+\n",
      "|     F|  104|\n",
      "|     M|  121|\n",
      "+------+-----+\n",
      "\n"
     ]
    }
   ],
   "source": [
    "df_user.groupBy('gender').count().show()"
   ]
  },
  {
   "cell_type": "code",
   "execution_count": 203,
   "metadata": {},
   "outputs": [
    {
     "name": "stdout",
     "output_type": "stream",
     "text": [
      "+--------+-----+\n",
      "|   state|count|\n",
      "+--------+-----+\n",
      "|      CA|   33|\n",
      "|      TX|   16|\n",
      "|NY-NJ-PA|   15|\n",
      "|      FL|   14|\n",
      "|      AZ|    7|\n",
      "|      CT|    7|\n",
      "|      NC|    6|\n",
      "|   MO-IL|    6|\n",
      "|IL-IN-WI|    6|\n",
      "|   NC-SC|    6|\n",
      "+--------+-----+\n",
      "only showing top 10 rows\n",
      "\n"
     ]
    }
   ],
   "source": [
    "df_user.groupBy('state').count().orderBy('count', ascending=False).show(10)"
   ]
  },
  {
   "cell_type": "code",
   "execution_count": 205,
   "metadata": {},
   "outputs": [
    {
     "name": "stdout",
     "output_type": "stream",
     "text": [
      "+----------+-----+\n",
      "|userDevice|count|\n",
      "+----------+-----+\n",
      "|        pc|  123|\n",
      "|       mac|   86|\n",
      "|    mobile|   16|\n",
      "+----------+-----+\n",
      "\n"
     ]
    }
   ],
   "source": [
    "df_user.groupBy('userDevice').count().orderBy('count', ascending=False).show()"
   ]
  },
  {
   "cell_type": "code",
   "execution_count": 220,
   "metadata": {
    "scrolled": true
   },
   "outputs": [
    {
     "name": "stdout",
     "output_type": "stream",
     "text": [
      "+--------------------+-----+\n",
      "|              artist|count|\n",
      "+--------------------+-----+\n",
      "|       Kings Of Leon| 1841|\n",
      "|            Coldplay| 1813|\n",
      "|Florence + The Ma...| 1236|\n",
      "|       Dwight Yoakam| 1135|\n",
      "|            BjÃÂ¶rk| 1133|\n",
      "|      The Black Keys| 1125|\n",
      "|                Muse| 1090|\n",
      "|       Justin Bieber| 1044|\n",
      "|        Jack Johnson| 1007|\n",
      "|              Eminem|  953|\n",
      "+--------------------+-----+\n",
      "only showing top 10 rows\n",
      "\n"
     ]
    }
   ],
   "source": [
    "spark.sql('''\n",
    "        SELECT artist, count(*) as count\n",
    "        FROM user_log_table\n",
    "        WHERE artist is not null\n",
    "        GROUP BY artist\n",
    "        ORDER BY count(*) DESC\n",
    "        ''').show(10)"
   ]
  },
  {
   "cell_type": "code",
   "execution_count": 221,
   "metadata": {},
   "outputs": [
    {
     "name": "stdout",
     "output_type": "stream",
     "text": [
      "+--------------------+-----+\n",
      "|                song|count|\n",
      "+--------------------+-----+\n",
      "|      You're The One| 1153|\n",
      "|                Undo| 1026|\n",
      "|             Revelry|  854|\n",
      "|       Sehr kosmisch|  728|\n",
      "|Horn Concerto No....|  641|\n",
      "|Dog Days Are Over...|  574|\n",
      "|             Secrets|  466|\n",
      "|        Use Somebody|  459|\n",
      "|              Canada|  435|\n",
      "|             Invalid|  424|\n",
      "+--------------------+-----+\n",
      "only showing top 10 rows\n",
      "\n"
     ]
    }
   ],
   "source": [
    "spark.sql('''\n",
    "        SELECT song, count(*) as count\n",
    "        FROM user_log_table\n",
    "        WHERE song is not null\n",
    "        GROUP BY song\n",
    "        ORDER BY count(*) DESC\n",
    "        ''').show(10)"
   ]
  },
  {
   "cell_type": "markdown",
   "metadata": {},
   "source": [
    "### Create a table that contains user subscription behavior\n",
    "\n",
    "Idea of the query below:\n",
    "\n",
    "1. `errors_tab`\n",
    "    * Assign each entry row number to maintain order of events (have consecutive entries with exact same timestamp)\n",
    "    * Some actions are not realized because an error follows in the logs. Thus if entry $t+1$ has page \"Error\", set a flag for entry $t$ (Note that we want to keep the actual errors themselves, since they might be an indicator for users terminating their subscription, if they encounters a large number of errors during their paid regime)\n",
    "\n",
    "2. `records_tab`\n",
    "    * When level at $t$ is different from $t-1$ a new regime starts. Set a flag\n",
    "    * When level at $t$ is \"paid\" and level at $t+1$ is \"free\", the regime at $t$ is cancelled. Set a flag\n",
    "    * Choose only actions that don't result in errors\n",
    "\n",
    "3. `regime_tab`\n",
    "    * Sum up the flag set in the `records_tab`. Whenever the level changes, the `regime_count` increases by 1\n",
    "\n",
    "4. `regime_dates`\n",
    "    * The `regime_start` in the first regime is per assumption the registration date, as we don't have other data available. In later regimes $n>1$ we'll take the timestamp of the first record of regime $n$\n",
    "    * In the last regime, $N$, the `regime_end` is the max. timestamp in the dataset. Else it's the timestamp of the latest record in the particular regime $n<N$\n",
    "\n",
    "5. Final Result\n",
    "    * Collect the pre-processed data\n",
    "    * Obtain aggregate values per regime\n",
    "\n",
    "**Note:** might want to break the pretabs down into seperate SQL query commands and tables to reduce complexity of statement"
   ]
  },
  {
   "cell_type": "code",
   "execution_count": 18,
   "metadata": {},
   "outputs": [
    {
     "name": "stdout",
     "output_type": "stream",
     "text": [
      "+------+-----+------------+------------+----------+-------------+-----------------+--------------------+---------+---------+-----------+----------+---------------+-------------+-----+----+-----------+----------+\n",
      "|userId|level|regime_count|regime_start|regime_end|regime_lenght|regime_downgraded|date_fully_cancelled|next_song|thumbs_up|thumbs_down|add_friend|add_to_playlist|save_settings|error|help|roll_advert|userDevice|\n",
      "+------+-----+------------+------------+----------+-------------+-----------------+--------------------+---------+---------+-----------+----------+---------------+-------------+-----+----+-----------+----------+\n",
      "|    10| paid|           1|  2018-09-28|2018-12-03|           65|            false|                null|      673|       37|          4|        12|              9|            1|    0|   1|          1|       mac|\n",
      "|   100| paid|           1|  2018-09-26|2018-12-03|           67|             true|                null|     1604|       84|         14|        32|             43|            5|    1|   9|          2|        pc|\n",
      "|   100| free|           2|  2018-11-04|2018-12-03|           28|            false|                null|      231|       11|          1|         6|              4|            0|    1|   3|         21|        pc|\n",
      "|   100| free|           2|  2018-11-04|2018-11-14|            9|            false|                null|      231|       11|          1|         6|              4|            0|    1|   3|         21|        pc|\n",
      "|   100| paid|           3|  2018-11-14|2018-12-03|           18|            false|                null|      844|       53|         12|        11|             14|            0|    1|   6|          2|        pc|\n",
      "|100001| free|           1|  2018-08-18|2018-10-02|           44|            false|          2018-10-02|      132|        8|          2|         2|              3|            0|    1|   1|         14|       mac|\n",
      "|100001| free|           1|  2018-08-18|2018-12-03|          106|            false|                null|      132|        8|          2|         2|              3|            0|    1|   1|         14|       mac|\n",
      "|100002| paid|           1|  2018-06-25|2018-12-03|          160|            false|                null|      195|        5|          0|         1|              5|            0|    0|   0|          3|        pc|\n",
      "|100003| free|           1|  2018-09-19|2018-10-11|           22|            false|          2018-10-11|       51|        3|          0|         0|              2|            0|    0|   1|          9|        pc|\n",
      "|100003| free|           1|  2018-09-19|2018-12-03|           75|            false|                null|       51|        3|          0|         0|              2|            0|    0|   1|          9|        pc|\n",
      "|100004| free|           1|  2018-06-09|2018-12-03|          176|            false|                null|      129|        6|          0|         7|              1|            1|    0|   1|         21|        pc|\n",
      "|100004| paid|           2|  2018-10-15|2018-12-03|           48|             true|                null|       51|        4|          0|         1|              3|            0|    0|   0|          1|        pc|\n",
      "|100004| free|           3|  2018-10-18|2018-12-03|           45|            false|                null|       46|        0|          0|         1|              0|            0|    0|   0|         13|        pc|\n",
      "|100004| paid|           4|  2018-10-18|2018-12-03|           45|             true|                null|      146|        3|          1|         1|              6|            0|    0|   2|          3|        pc|\n",
      "|100004| free|           5|  2018-10-31|2018-12-03|           32|            false|                null|      310|       13|          9|         5|              7|            1|    2|   3|         45|        pc|\n",
      "|100004| paid|           6|  2018-11-27|2018-12-03|            5|            false|                null|      258|        9|          1|         4|              6|            0|    0|   0|          3|        pc|\n",
      "|100005| free|           1|  2018-07-26|2018-12-03|          129|            false|                null|      154|        7|          3|         3|              3|            0|    0|   2|         18|       mac|\n",
      "|100005| free|           1|  2018-07-26|2018-10-19|           85|            false|          2018-10-19|      154|        7|          3|         3|              3|            0|    0|   2|         18|       mac|\n",
      "|100006| free|           1|  2018-09-26|2018-10-05|            9|            false|          2018-10-05|       26|        2|          2|         4|              1|            0|    0|   0|          3|        pc|\n",
      "|100006| free|           1|  2018-09-26|2018-12-03|           67|            false|                null|       26|        2|          2|         4|              1|            0|    0|   0|          3|        pc|\n",
      "|100007| paid|           1|  2018-08-06|2018-12-03|          118|            false|                null|      423|       19|          6|        17|              9|            1|    0|   3|          5|        pc|\n",
      "|100007| paid|           1|  2018-08-06|2018-11-29|          115|            false|          2018-11-29|      423|       19|          6|        17|              9|            1|    0|   3|          5|        pc|\n",
      "|100008| paid|           1|  2018-09-20|2018-12-03|           73|             true|                null|      721|       36|          6|        15|             30|            0|    0|   6|         11|       mac|\n",
      "|100008| free|           2|  2018-11-20|2018-12-03|           12|            false|                null|       51|        1|          0|         2|              0|            0|    0|   0|          9|       mac|\n",
      "|100009| free|           1|  2018-09-19|2018-12-03|           74|            false|                null|       98|        3|          3|         1|              2|            0|    0|   1|         16|        pc|\n",
      "|100009| paid|           2|  2018-10-15|2018-12-03|           49|             true|                null|      279|        7|          1|         4|              7|            1|    0|   2|          1|        pc|\n",
      "|100009| free|           3|  2018-10-21|2018-10-27|            5|            false|          2018-10-27|      141|       13|          4|         2|              3|            0|    0|   3|         25|        pc|\n",
      "|100009| free|           3|  2018-10-21|2018-12-03|           42|            false|                null|      141|       13|          4|         2|              3|            0|    0|   3|         25|        pc|\n",
      "|100010| free|           1|  2018-09-27|2018-12-03|           66|            false|                null|      275|       17|          5|         4|              7|            0|    0|   2|         52|    mobile|\n",
      "|100011| free|           1|  2018-09-26|2018-10-01|            5|            false|          2018-10-01|       11|        0|          1|         0|              2|            0|    0|   0|          2|        pc|\n",
      "|100011| free|           1|  2018-09-26|2018-12-03|           67|            false|                null|       11|        0|          1|         0|              2|            0|    0|   0|          2|        pc|\n",
      "|100012| free|           1|  2018-09-19|2018-12-03|           74|            false|                null|       42|        2|          0|         1|              0|            0|    0|   1|          8|       mac|\n",
      "|100012| paid|           2|  2018-10-10|2018-12-03|           53|             true|                null|      221|        5|          4|         0|              5|            0|    0|   0|          1|       mac|\n",
      "|100012| free|           3|  2018-10-19|2018-11-01|           12|            false|          2018-11-01|      213|       11|          5|         1|              7|            0|    0|   1|         29|       mac|\n",
      "|100012| free|           3|  2018-10-19|2018-12-03|           44|            false|                null|      213|       11|          5|         1|              7|            0|    0|   1|         29|       mac|\n",
      "|100013| free|           1|  2018-09-19|2018-12-03|           74|            false|                null|      222|       10|          1|         5|              8|            1|    1|   4|         29|        pc|\n",
      "|100013| paid|           2|  2018-10-05|2018-12-03|           59|            false|                null|      908|       28|         14|        23|             23|            2|    1|   5|         10|        pc|\n",
      "|100013| paid|           2|  2018-10-05|2018-11-02|           28|            false|          2018-11-02|      908|       28|         14|        23|             23|            2|    1|   5|         10|        pc|\n",
      "|100014| paid|           1|  2018-08-27|2018-11-20|           85|            false|          2018-11-20|      257|       17|          3|         6|              7|            0|    0|   2|          2|        pc|\n",
      "|100014| paid|           1|  2018-08-27|2018-12-03|           97|            false|                null|      257|       17|          3|         6|              7|            0|    0|   2|          2|        pc|\n",
      "|100015| free|           1|  2018-09-17|2018-12-03|           76|            false|                null|      315|       14|          4|         7|             11|            0|    0|   1|         46|       mac|\n",
      "|100015| paid|           2|  2018-10-13|2018-12-03|           51|             true|                null|      106|        2|          0|         6|              4|            0|    1|   0|          0|       mac|\n",
      "|100015| free|           3|  2018-10-18|2018-12-03|           45|            false|                null|      159|        7|          3|         0|              2|            1|    0|   1|         20|       mac|\n",
      "|100015| paid|           4|  2018-11-02|2018-11-24|           22|            false|          2018-11-24|      219|       12|          1|         1|              5|            0|    0|   4|          3|       mac|\n",
      "|100015| paid|           4|  2018-11-02|2018-12-03|           30|            false|                null|      219|       12|          1|         1|              5|            0|    0|   4|          3|       mac|\n",
      "|100016| paid|           1|  2018-09-13|2018-12-03|           80|             true|                null|      456|       20|          4|        12|              5|            0|    1|   2|          6|        pc|\n",
      "|100016| free|           2|  2018-11-23|2018-12-03|            9|            false|                null|       73|        5|          1|         1|              1|            0|    0|   1|         10|        pc|\n",
      "|100017| free|           1|  2018-08-03|2018-10-20|           78|            false|          2018-10-20|       52|        2|          1|         0|              1|            0|    0|   0|         14|    mobile|\n",
      "|100017| free|           1|  2018-08-03|2018-12-03|          122|            false|                null|       52|        2|          1|         0|              1|            0|    0|   0|         14|    mobile|\n",
      "|100018| free|           1|  2018-08-09|2018-12-03|          115|            false|                null|      158|        8|          2|         8|              2|            2|    0|   2|         27|       mac|\n",
      "|100018| paid|           2|  2018-10-09|2018-12-03|           54|             true|                null|       16|        1|          0|         0|              1|            0|    0|   0|          0|       mac|\n",
      "|100018| free|           3|  2018-10-09|2018-10-20|           10|            false|                null|       31|        1|          1|         0|              0|            0|    0|   0|          6|       mac|\n",
      "|100018| free|           3|  2018-10-09|2018-12-03|           54|            false|                null|       31|        1|          1|         0|              0|            0|    0|   0|          6|       mac|\n",
      "|100018| paid|           4|  2018-10-20|2018-12-03|           43|             true|                null|      567|       25|          4|        12|             23|            0|    0|   3|          4|       mac|\n",
      "|100018| free|           5|  2018-11-26|2018-12-03|            6|            false|                null|      230|       11|          2|         3|              5|            1|    0|   2|         43|       mac|\n",
      "|100019| free|           1|  2018-09-06|2018-12-03|           87|            false|                null|       62|        1|          1|         2|              2|            0|    0|   1|         11|        pc|\n",
      "|100019| free|           1|  2018-09-06|2018-10-08|           31|            false|          2018-10-08|       62|        1|          1|         2|              2|            0|    0|   1|         11|        pc|\n",
      "|100021| free|           1|  2018-09-21|2018-11-25|           64|            false|          2018-11-25|      229|       11|          5|         7|              7|            0|    2|   0|         29|       mac|\n",
      "|100021| free|           1|  2018-09-21|2018-12-03|           72|            false|                null|      229|       11|          5|         7|              7|            0|    2|   0|         29|       mac|\n",
      "|100022| free|           1|  2018-09-25|2018-11-12|           47|            false|          2018-11-12|      681|       45|         20|        10|             14|            2|    1|   6|        115|       mac|\n",
      "|100022| free|           1|  2018-09-25|2018-12-03|           68|            false|                null|      681|       45|         20|        10|             14|            2|    1|   6|        115|       mac|\n",
      "|100023| free|           1|  2018-09-11|2018-12-03|           82|            false|                null|       26|        2|          0|         4|              1|            0|    0|   0|          3|        pc|\n",
      "|100023| paid|           2|  2018-10-05|2018-10-14|            8|            false|          2018-10-14|      381|        8|          2|        10|             10|            0|    0|   3|          3|        pc|\n",
      "|100023| paid|           2|  2018-10-05|2018-12-03|           58|            false|                null|      381|        8|          2|        10|             10|            0|    0|   3|          3|        pc|\n",
      "|100024| free|           1|  2018-09-07|2018-12-03|           86|            false|                null|       22|        5|          0|         0|              0|            0|    0|   0|          3|        pc|\n",
      "|100024| free|           1|  2018-09-07|2018-10-05|           27|            false|          2018-10-05|       22|        5|          0|         0|              0|            0|    0|   0|          3|        pc|\n",
      "|100025| paid|           1|  2018-07-26|2018-12-03|          129|             true|                null|      336|       14|          2|         0|              4|            3|    1|   4|          8|       mac|\n",
      "|100025| free|           2|  2018-10-19|2018-10-23|            3|            false|          2018-10-23|      153|        6|          5|         3|              5|            0|    0|   1|         22|       mac|\n",
      "|100025| free|           2|  2018-10-19|2018-12-03|           44|            false|                null|      153|        6|          5|         3|              5|            0|    0|   1|         22|       mac|\n",
      "|   101| free|           1|  2018-08-24|2018-12-03|          101|            false|                null|       54|        2|          1|         1|              1|            0|    0|   1|          7|        pc|\n",
      "|   101| paid|           2|  2018-10-02|2018-12-03|           61|            false|                null|     1741|       83|         15|        28|             60|            2|    3|  11|          1|        pc|\n",
      "|   101| paid|           2|  2018-10-02|2018-10-17|           14|            false|          2018-10-17|     1741|       83|         15|        28|             60|            2|    3|  11|          1|        pc|\n",
      "|   102| free|           1|  2018-09-26|2018-12-03|           68|            false|                null|      157|        6|          2|         0|              1|            0|    1|   0|         17|        pc|\n",
      "|   103| free|           1|  2018-09-23|2018-12-03|           70|            false|                null|      176|       12|          1|         2|             10|            1|    0|   3|         11|       mac|\n",
      "|   103| paid|           2|  2018-10-15|2018-12-03|           48|             true|                null|       69|        3|          2|         5|              3|            0|    0|   1|          0|       mac|\n",
      "|   103| free|           3|  2018-10-16|2018-12-03|           48|            false|                null|       18|        0|          0|         0|              0|            0|    0|   0|          2|       mac|\n",
      "|   103| paid|           4|  2018-10-19|2018-11-04|           15|            false|          2018-11-04|      810|       37|          6|        18|             29|            0|    0|   3|          1|       mac|\n",
      "|   103| paid|           4|  2018-10-19|2018-12-03|           44|            false|                null|      810|       37|          6|        18|             29|            0|    0|   3|          1|       mac|\n",
      "|   104| free|           1|  2018-07-25|2018-12-03|          130|            false|                null|      272|       16|          0|         2|              6|            1|    0|   1|         20|        pc|\n",
      "|   104| paid|           2|  2018-10-22|2018-12-03|           41|            false|                null|     1509|       68|         16|        21|             37|            1|    1|  14|          3|        pc|\n",
      "|   105| free|           1|  2018-09-13|2018-12-03|           80|            false|                null|       26|        0|          0|         0|              2|            0|    0|   0|          1|        pc|\n",
      "|   105| paid|           2|  2018-10-03|2018-10-12|            9|            false|          2018-10-12|      736|       45|          6|        13|             10|            3|    2|   2|          1|        pc|\n",
      "|   105| paid|           2|  2018-10-03|2018-12-03|           61|            false|                null|      736|       45|          6|        13|             10|            3|    2|   2|          1|        pc|\n",
      "|   106| free|           1|  2018-09-23|2018-12-03|           70|            false|                null|      106|        9|          1|         2|              4|            0|    0|   0|          4|       mac|\n",
      "|   106| paid|           2|  2018-10-04|2018-12-03|           59|            false|                null|      733|       34|          5|        27|             24|            1|    0|   5|          0|       mac|\n",
      "|   106| paid|           2|  2018-10-04|2018-11-02|           28|            false|          2018-11-02|      733|       34|          5|        27|             24|            1|    0|   5|          0|       mac|\n",
      "|   107| free|           1|  2018-09-07|2018-12-03|           86|            false|                null|      246|       14|          2|         2|             10|            1|    0|   0|         19|        pc|\n",
      "|   108| free|           1|  2018-09-29|2018-12-03|           64|            false|                null|      143|        7|          3|         3|              3|            1|    0|   0|         18|       mac|\n",
      "|   108| paid|           2|  2018-11-07|2018-12-03|           25|            false|                null|      490|       13|          3|        12|             12|            1|    0|   5|          1|       mac|\n",
      "|   109| free|           1|  2018-08-20|2018-12-03|          104|            false|                null|       33|        0|          1|         0|              0|            0|    0|   1|          3|        pc|\n",
      "|   109| paid|           2|  2018-10-07|2018-12-03|           56|             true|                null|      637|       22|          4|        12|             16|            1|    0|   9|          1|        pc|\n",
      "|   109| free|           3|  2018-11-12|2018-12-03|           20|            false|                null|       47|        1|          0|         0|              0|            0|    0|   0|          3|        pc|\n",
      "|    11| free|           1|  2018-07-25|2018-12-03|          130|            false|                null|       11|        0|          0|         0|              0|            1|    0|   0|          0|        pc|\n",
      "|    11| paid|           2|  2018-10-11|2018-12-03|           52|             true|                null|       12|        1|          0|         0|              1|            0|    0|   0|          0|        pc|\n",
      "|    11| free|           3|  2018-10-11|2018-12-03|           52|            false|                null|      444|       32|          7|         5|             12|            1|    0|   3|         38|        pc|\n",
      "|    11| paid|           4|  2018-11-16|2018-12-03|           16|            false|                null|      180|        7|          2|         1|              7|            0|    1|   0|          1|        pc|\n",
      "|   110| free|           1|  2018-09-23|2018-12-03|           70|            false|                null|      178|       14|          2|         7|              3|            0|    0|   0|         17|       mac|\n",
      "|   111| free|           1|  2018-09-08|2018-12-03|           85|            false|                null|       97|        4|          1|         6|              2|            0|    0|   0|          3|        pc|\n",
      "|   111| paid|           2|  2018-11-02|2018-12-03|           30|            false|                null|      599|       30|          5|        17|             19|            0|    2|   3|          0|        pc|\n",
      "|   112| free|           1|  2018-09-04|2018-12-03|           89|            false|                null|      215|        9|          3|         7|              7|            3|    0|   1|         21|        pc|\n",
      "+------+-----+------------+------------+----------+-------------+-----------------+--------------------+---------+---------+-----------+----------+---------------+-------------+-----+----+-----------+----------+\n",
      "only showing top 100 rows\n",
      "\n"
     ]
    }
   ],
   "source": [
    "user_regime = spark.sql(\"\"\"\n",
    "                        with errors_tab AS(\n",
    "                        SELECT\n",
    "                            userId, auth, page, level, ts/1000 ts, registration/1000 registration, userDevice,\n",
    "                            row_number() OVER(PARTITION BY userId ORDER BY userId, ts) record_number,\n",
    "                            CASE WHEN LEAD(page) OVER(PARTITION BY userId ORDER BY userId, ts) = 'Error' THEN 1 ELSE 0 END leads_to_error\n",
    "                        FROM user_log_table\n",
    "                        ),\n",
    "\n",
    "\n",
    "                        records_tab as(\n",
    "                        SELECT\n",
    "                            userId, page, level, ts, registration, userDevice, record_number,\n",
    "                            CASE WHEN auth = 'Cancelled' THEN ts END date_fully_cancelled,\n",
    "                            CASE WHEN LAG(level) OVER(PARTITION BY userId ORDER BY record_number) != level THEN 1 ELSE 0 END regime_change,\n",
    "                            CASE WHEN LEAD(level) OVER(PARTITION BY userId ORDER BY record_number) = 'free' and level = 'paid' THEN 1 ELSE 0 END downgrade_regime\n",
    "                        FROM errors_tab\n",
    "                        WHERE leads_to_error = 0\n",
    "                        ),\n",
    "\n",
    "\n",
    "                        regime_tab AS(\n",
    "                        SELECT userId, page, level, ts, registration, userDevice, record_number, date_fully_cancelled, downgrade_regime,\n",
    "                            SUM(regime_change) OVER(PARTITION BY userId ORDER BY record_number)+1 regime_count\n",
    "                        FROM records_tab),\n",
    "\n",
    "\n",
    "                        regime_dates AS(            \n",
    "                        SELECT userId, page, level, userDevice, record_number, FROM_UNIXTIME(date_fully_cancelled) date_fully_cancelled, downgrade_regime, regime_count,\n",
    "                            CASE\n",
    "                                WHEN regime_count = 1 THEN FROM_UNIXTIME(registration)\n",
    "                                WHEN regime_count > 1 THEN FROM_UNIXTIME(first_value(ts) OVER(PARTITION BY userId, regime_count))\n",
    "                            END regime_start,\n",
    "                            \n",
    "                            CASE\n",
    "                                WHEN regime_count = last_value(regime_count) OVER(PARTITION BY userId ORDER BY ts) AND date_fully_cancelled IS NULL THEN FROM_UNIXTIME((select max(ts) FROM records_tab))\n",
    "                                WHEN regime_count = last_value(regime_count) OVER(PARTITION BY userId ORDER BY ts) AND date_fully_cancelled IS NOT NULL THEN FROM_UNIXTIME(date_fully_cancelled)\n",
    "                                ELSE FROM_UNIXTIME(last_value(ts) OVER(PARTITION BY userId, regime_count))\n",
    "                            END regime_end\n",
    "                        FROM regime_tab)\n",
    "\n",
    "                        SELECT\n",
    "                            DISTINCT userId,\n",
    "                            level,\n",
    "                            regime_count,\n",
    "                            DATE(regime_start) regime_start,\n",
    "                            DATE(regime_end) regime_end,\n",
    "                            DATEDIFF(day, regime_start, regime_end) regime_lenght,\n",
    "                            SUM(downgrade_regime) OVER(PARTITION BY userId, regime_count) = 1 regime_downgraded,\n",
    "                            DATE(date_fully_cancelled) date_fully_cancelled,\n",
    "                            count_if(page = 'NextSong') OVER(PARTITION BY userId, regime_count) next_song,\n",
    "                            count_if(page = 'Thumbs Up') OVER(PARTITION BY userId, regime_count) thumbs_up,\n",
    "                            count_if(page = 'Thumbs Down') OVER(PARTITION BY userId, regime_count) thumbs_down,\n",
    "                            count_if(page = 'Add Friend') OVER(PARTITION BY userId, regime_count) add_friend,\n",
    "                            count_if(page = 'Add to Playlist') OVER(PARTITION BY userId, regime_count) add_to_playlist,\n",
    "                            count_if(page = 'Save Settings') OVER(PARTITION BY userId, regime_count) save_settings,\n",
    "                            count_if(page = 'Error') OVER(PARTITION BY userId, regime_count) error,\n",
    "                            count_if(page = 'Help') OVER(PARTITION BY userId, regime_count) help,\n",
    "                            count_if(page = 'Roll Advert') OVER(PARTITION BY userId, regime_count) roll_advert,\n",
    "                            userDevice\n",
    "                        FROM regime_dates\n",
    "                        ORDER BY userId, regime_count\n",
    "                        \n",
    "                        \"\"\")\n",
    "# store results in temporary view: user_regime_table\n",
    "user_regime.createOrReplaceTempView(\"user_regime_table\")\n",
    "user_regime.show(100)"
   ]
  },
  {
   "cell_type": "code",
   "execution_count": 222,
   "metadata": {},
   "outputs": [],
   "source": [
    "df_temp = spark.sql(\"\"\"\n",
    "                SELECT\n",
    "                    regime_downgraded,\n",
    "                    avg(regime_lenght) regime_lenght,\n",
    "                    avg(next_song) next_song,\n",
    "                    avg(thumbs_up) thumbs_up,\n",
    "                    avg(thumbs_down) thumbs_down,\n",
    "                    avg(add_friend) add_friend,\n",
    "                    avg(add_to_playlist) add_to_playlist,\n",
    "                    avg(save_settings) save_settings,\n",
    "                    avg(error) error,\n",
    "                    avg(roll_advert) roll_advert\n",
    "                FROM user_regime_table\n",
    "                WHERE level = 'paid'\n",
    "                Group BY regime_downgraded\n",
    "            \"\"\").toPandas()"
   ]
  },
  {
   "cell_type": "code",
   "execution_count": 223,
   "metadata": {},
   "outputs": [
    {
     "data": {
      "image/png": "[encoded data removed]",
      "text/plain": [
       "<Figure size 864x864 with 9 Axes>"
      ]
     },
     "metadata": {
      "needs_background": "light"
     },
     "output_type": "display_data"
    }
   ],
   "source": [
    "fig = plt.figure(figsize=(12,12))\n",
    "\n",
    "for i in range(1,df_temp.shape[1]):\n",
    "    \n",
    "    plt.subplot(3,4,i)\n",
    "    plt.bar(['True', 'False'], [df_temp.iloc[:,i][0],df_temp.iloc[:,i][1]], width=0.5)\n",
    "    plt.title(df_temp.columns[i])"
   ]
  },
  {
   "cell_type": "markdown",
   "metadata": {},
   "source": [
    "The graph above only consideres regimes during which the level was paid.\n",
    "The piture on these metrics is not quite clear: average thumb_up were higher for users who didn't downgrade.\n",
    "This is in line with the assumption, that they are on average happier with the service.\n",
    "However, average thumbs_down are also higher for users who didn't downgrade."
   ]
  },
  {
   "cell_type": "markdown",
   "metadata": {},
   "source": [
    "### Aggregate the `user_regime_table` data per User\n",
    "\n",
    "The aggregate table should have one row per user which contains all necessary information and can be used for ML model input."
   ]
  },
  {
   "cell_type": "code",
   "execution_count": 26,
   "metadata": {},
   "outputs": [],
   "source": [
    "user_features= spark.sql(\"\"\"\n",
    "                        SELECT\n",
    "                            CAST(userId AS int),\n",
    "                            count_if(level = 'paid') paid_regimes,\n",
    "                            count_if(level = 'free') free_regimes,\n",
    "                            sum(regime_lenght) membership_days,\n",
    "                            count_if(regime_downgraded = 'true') downgraded_regimes,\n",
    "                            CASE WHEN max(date_fully_cancelled) IS NOT NULL THEN 1 ELSE 0 END fully_cancelled,\n",
    "                            sum(next_song) next_song,\n",
    "                            sum(thumbs_up) thumbs_up,\n",
    "                            sum(thumbs_down) thumbs_down,\n",
    "                            sum(add_friend) add_friend,\n",
    "                            sum(add_to_playlist) add_to_playlist,\n",
    "                            sum(save_settings) save_settings,\n",
    "                            sum(error) error,\n",
    "                            sum(help) help,\n",
    "                            sum(roll_advert) roll_advert,\n",
    "                            CASE WHEN count_if(userDevice = 'mac')>0 THEN 1 ELSE 0 END device_mac,\n",
    "                            CASE WHEN count_if(userDevice = 'pc')>0 THEN 1 ELSE 0 END device_pc,\n",
    "                            CASE WHEN count_if(userDevice = 'mobile')>0 THEN 1 ELSE 0 END device_mobile\n",
    "                        FROM\n",
    "                            user_regime_table\n",
    "                        GROUP BY\n",
    "                            userId\n",
    "                        ORDER BY\n",
    "                            userId\n",
    "                            \n",
    "                        \"\"\")"
   ]
  },
  {
   "cell_type": "markdown",
   "metadata": {},
   "source": [
    "# Feature Engineering\n",
    "\n",
    "* User inactivity: if a user only listens to a handful of songs per month or no songs at all, a cancellation might be likely\n",
    "    * The ratio of songs listend over time being a paying client might be a good predictor\n",
    "* Number of thumbs up/down they gave before cancelling"
   ]
  },
  {
   "cell_type": "markdown",
   "metadata": {},
   "source": [
    "## Create New Features from Aggregate User Values"
   ]
  },
  {
   "cell_type": "code",
   "execution_count": null,
   "metadata": {},
   "outputs": [],
   "source": []
  },
  {
   "cell_type": "code",
   "execution_count": null,
   "metadata": {},
   "outputs": [],
   "source": []
  },
  {
   "cell_type": "markdown",
   "metadata": {},
   "source": [
    "## Transform Fatures for Pipeline Usage"
   ]
  },
  {
   "cell_type": "markdown",
   "metadata": {},
   "source": [
    "Split the user_feature data into training and validation dataset"
   ]
  },
  {
   "cell_type": "code",
   "execution_count": 27,
   "metadata": {},
   "outputs": [],
   "source": [
    "rest, validation = user_features.randomSplit([0.8, 0.2], seed=42)"
   ]
  },
  {
   "cell_type": "markdown",
   "metadata": {},
   "source": [
    "Combine all features into a single vector which will be normalized and used as the direct input for the models.\n",
    "However, we need to drop the `fully_cancelled` columns, since its the variable we want to predict.\n",
    "Furthermore, we have to drop the `device_mobile` column, because its a linear combination of `device_mac` and `device_pc`."
   ]
  },
  {
   "cell_type": "code",
   "execution_count": 164,
   "metadata": {},
   "outputs": [],
   "source": [
    "inputCols = user_features.columns\n",
    "inputCols.remove('fully_cancelled')\n",
    "inputCols.remove('device_mobile')"
   ]
  },
  {
   "cell_type": "code",
   "execution_count": 165,
   "metadata": {},
   "outputs": [],
   "source": [
    "assembler = VectorAssembler(inputCols= inputCols, outputCol='inputFeatures')"
   ]
  },
  {
   "cell_type": "markdown",
   "metadata": {},
   "source": [
    "Normalize them"
   ]
  },
  {
   "cell_type": "code",
   "execution_count": 166,
   "metadata": {},
   "outputs": [],
   "source": [
    "scaler = Normalizer(inputCol=\"inputFeatures\", outputCol=\"features\")"
   ]
  },
  {
   "cell_type": "markdown",
   "metadata": {},
   "source": [
    "# Modeling\n",
    "\n",
    "In version 3.3.2 spark supports the following classification algorithms:\n",
    "\n",
    "* Logistic regression\n",
    "    * Binomial logistic regression\n",
    "    * Multinomial logistic regression\n",
    "* Decision tree classifier\n",
    "* Random forest classifier\n",
    "* Gradient-boosted tree classifier\n",
    "* Multilayer perceptron classifier\n",
    "* Linear Support Vector Machine\n",
    "* One-vs-Rest classifier (a.k.a. One-vs-All)\n",
    "* Naive Bayes\n",
    "* Factorization machines classifier\n",
    "\n",
    "We'll choose the four most popular:\n",
    "\n",
    "1. [Logistic regression](#lr)\n",
    "2. [Random forest classifier](#rf)\n",
    "3. [Gradient boosted tree classifier](#gbt)\n",
    "4. [Linear Support Vector Machine](#lsv)\n",
    "\n",
    "To **evaluate the models**, we compute the **accuracy** and the **F1-score** for each model.\n",
    "\n",
    "* Accuracy is defined as $$\\frac{\\text{# correct predictions}}{\\text{# total predictions}}$$\n",
    "* The F1-score combines the measure of accuracy and recall $$\\frac{1}{N} \\sum_{i=0}^{N-1}2\\frac{|P_i\\cap L_i|}{|P_i|\\cdot|L_i|},$$\n",
    "where $L_0, L_1, ..., L_{N-1}$ are the label sets and $P_0, P_1, ..., P_{N-1}$ the prediction sets\n",
    "\n",
    "\n",
    "Details: [Spark Documentation](https://spark.apache.org/docs/2.2.0/mllib-evaluation-metrics.html#multilabel-classification)"
   ]
  },
  {
   "cell_type": "code",
   "execution_count": 167,
   "metadata": {},
   "outputs": [],
   "source": [
    "modeling_summary = {}"
   ]
  },
  {
   "cell_type": "markdown",
   "metadata": {},
   "source": [
    "## Logistist Regression <a id='lr'></a>"
   ]
  },
  {
   "cell_type": "code",
   "execution_count": 168,
   "metadata": {},
   "outputs": [],
   "source": [
    "# Initialize model and pipeline\n",
    "lr           =  LogisticRegression(maxIter=10, regParam=0.0, elasticNetParam=0, labelCol='fully_cancelled')\n",
    "pipeline_lr  = Pipeline(stages=[assembler, scaler, lr ])"
   ]
  },
  {
   "cell_type": "code",
   "execution_count": 169,
   "metadata": {},
   "outputs": [],
   "source": [
    "# Set up parameter grid\n",
    "paramgrid =ParamGridBuilder()\\\n",
    ".addGrid(lr.regParam, [0.0, 0,1])\\\n",
    ".addGrid(lr.maxIter, [10])\\\n",
    ".build()\n",
    "\n",
    "# Choose f1-score as evaluation metric\n",
    "evaluator = MulticlassClassificationEvaluator(metricName=\"f1\", labelCol='fully_cancelled')\n",
    "\n",
    "# Set up cross validator\n",
    "crossval = CrossValidator(estimator=pipeline_lr,\n",
    "                          estimatorParamMaps=paramgrid,\n",
    "                          evaluator = evaluator , \n",
    "                          numFolds=3)\n"
   ]
  },
  {
   "cell_type": "code",
   "execution_count": 170,
   "metadata": {
    "scrolled": true
   },
   "outputs": [],
   "source": [
    "# Fit the model\n",
    "cvModel_lr = crossval.fit(rest)"
   ]
  },
  {
   "cell_type": "code",
   "execution_count": 171,
   "metadata": {},
   "outputs": [],
   "source": [
    "# Apply model to validation set\n",
    "results_lr = cvModel_lr.transform(validation)"
   ]
  },
  {
   "cell_type": "markdown",
   "metadata": {},
   "source": [
    "### Accuracy of Logistic Regression Model"
   ]
  },
  {
   "cell_type": "code",
   "execution_count": 172,
   "metadata": {},
   "outputs": [
    {
     "name": "stdout",
     "output_type": "stream",
     "text": [
      "Number of Correct Predictions: 23\n",
      "Total Number of Predictions 35\n",
      "Accuracy 0.6571\n"
     ]
    }
   ],
   "source": [
    "lr_TP = (results_lr.filter(results_lr.fully_cancelled == results_lr.prediction).count())\n",
    "lr_totalNoPredictions = (results_lr.count())\n",
    "\n",
    "print('Number of Correct Predictions: {}'.format(lr_TP))\n",
    "print('Total Number of Predictions {}'.format(lr_totalNoPredictions))\n",
    "print('Accuracy {:.4f}'.format(lr_TP/lr_totalNoPredictions))"
   ]
  },
  {
   "cell_type": "code",
   "execution_count": 173,
   "metadata": {},
   "outputs": [
    {
     "name": "stdout",
     "output_type": "stream",
     "text": [
      "F1-score: 0.5212\n"
     ]
    }
   ],
   "source": [
    "print('F1-score: {:.4f}'.format(evaluator.evaluate(cvModel_lr.transform(validation))))"
   ]
  },
  {
   "cell_type": "code",
   "execution_count": 174,
   "metadata": {},
   "outputs": [],
   "source": [
    "modeling_summary['lrm'] = (lr_TP/lr_totalNoPredictions, evaluator.evaluate(cvModel_lr.transform(validation)))"
   ]
  },
  {
   "cell_type": "markdown",
   "metadata": {},
   "source": [
    "## Random Forest Classifier <a id='rf'></a>"
   ]
  },
  {
   "cell_type": "code",
   "execution_count": 175,
   "metadata": {},
   "outputs": [],
   "source": [
    "# Initialize model and pipeline\n",
    "rf           = RandomForestClassifier(labelCol='fully_cancelled')\n",
    "pipeline_rf  = Pipeline(stages=[assembler, scaler, rf])"
   ]
  },
  {
   "cell_type": "code",
   "execution_count": 176,
   "metadata": {},
   "outputs": [],
   "source": [
    "paramgrid_rf = ParamGridBuilder()\\\n",
    ".build()\n",
    "\n",
    "evaluator = MulticlassClassificationEvaluator(metricName=\"f1\", labelCol='fully_cancelled')\n",
    "\n",
    "crossval = CrossValidator(estimator=pipeline_rf,  \n",
    "                          estimatorParamMaps=paramgrid_rf,\n",
    "                          evaluator=evaluator, \n",
    "                          numFolds=3)"
   ]
  },
  {
   "cell_type": "code",
   "execution_count": 177,
   "metadata": {},
   "outputs": [
    {
     "name": "stderr",
     "output_type": "stream",
     "text": [
      "\r",
      "[Stage 9114:=============================================>     (177 + 14) / 200]\r",
      "\r",
      "                                                                                \r"
     ]
    }
   ],
   "source": [
    "cvModel_rf = crossval.fit(rest)"
   ]
  },
  {
   "cell_type": "code",
   "execution_count": 178,
   "metadata": {},
   "outputs": [],
   "source": [
    "results_rf = cvModel_rf.transform(validation)"
   ]
  },
  {
   "cell_type": "markdown",
   "metadata": {},
   "source": [
    "### Accuracy of Random Forest Classifier Model"
   ]
  },
  {
   "cell_type": "code",
   "execution_count": 180,
   "metadata": {},
   "outputs": [
    {
     "name": "stdout",
     "output_type": "stream",
     "text": [
      "Number of Correct Predictions: 28\n",
      "Total Number of Predictions: 35\n",
      "Accuracy 0.8000\n"
     ]
    }
   ],
   "source": [
    "rf_TP = (results_rf.filter(results_rf.fully_cancelled == results_rf.prediction).count())\n",
    "rf_totalNoPredictions = (results_rf.count())\n",
    "\n",
    "print('Number of Correct Predictions: {}'.format(rf_TP))\n",
    "print('Total Number of Predictions: {}'.format(rf_totalNoPredictions))\n",
    "print('Accuracy {:.4f}'.format(rf_TP/rf_totalNoPredictions))\n"
   ]
  },
  {
   "cell_type": "code",
   "execution_count": 181,
   "metadata": {},
   "outputs": [
    {
     "name": "stdout",
     "output_type": "stream",
     "text": [
      "F1-score: 0.7720\n"
     ]
    }
   ],
   "source": [
    "print('F1-score: {:.4f}'.format(evaluator.evaluate(cvModel_rf.transform(validation))))"
   ]
  },
  {
   "cell_type": "code",
   "execution_count": 183,
   "metadata": {},
   "outputs": [],
   "source": [
    "modeling_summary['rfc'] = (rf_TP/rf_totalNoPredictions, evaluator.evaluate(cvModel_rf.transform(validation)))"
   ]
  },
  {
   "cell_type": "markdown",
   "metadata": {},
   "source": [
    "## Gradient Boosted Tree Classifier <a id='gbt'></a>"
   ]
  },
  {
   "cell_type": "code",
   "execution_count": 185,
   "metadata": {},
   "outputs": [],
   "source": [
    "# Initialize model and pipeline\n",
    "gbt = GBTClassifier(labelCol='fully_cancelled')\n",
    "pipeline_gbt = Pipeline(stages=[assembler, scaler, gbt])"
   ]
  },
  {
   "cell_type": "code",
   "execution_count": 186,
   "metadata": {},
   "outputs": [],
   "source": [
    "paramgrid_gbt =ParamGridBuilder()\\\n",
    ".build()\n",
    "\n",
    "evaluator = MulticlassClassificationEvaluator(metricName=\"f1\", labelCol='fully_cancelled')\n",
    "\n",
    "crossval = CrossValidator(estimator=pipeline_gbt,\n",
    "                          estimatorParamMaps=paramgrid_gbt,\n",
    "                          evaluator=evaluator, \n",
    "                          numFolds=3)"
   ]
  },
  {
   "cell_type": "code",
   "execution_count": 187,
   "metadata": {},
   "outputs": [
    {
     "name": "stderr",
     "output_type": "stream",
     "text": [
      "\r",
      "[Stage 9747:=======================================>           (156 + 12) / 200]\r",
      "\r",
      "                                                                                \r"
     ]
    }
   ],
   "source": [
    "cvModel_gbt = crossval.fit(rest)"
   ]
  },
  {
   "cell_type": "code",
   "execution_count": 188,
   "metadata": {},
   "outputs": [],
   "source": [
    "results_gbt = cvModel_gbt.transform(validation)"
   ]
  },
  {
   "cell_type": "markdown",
   "metadata": {},
   "source": [
    "### Accuracy of Gradient Boosted Tree Classifier Model"
   ]
  },
  {
   "cell_type": "code",
   "execution_count": 189,
   "metadata": {},
   "outputs": [
    {
     "name": "stdout",
     "output_type": "stream",
     "text": [
      "Number of Correct Predictions: 30\n",
      "Total Number of Predictions 35\n",
      "Accuracy 0.8571\n"
     ]
    }
   ],
   "source": [
    "gbt_TP = (results_gbt.filter(results_gbt.fully_cancelled == results_gbt.prediction).count())\n",
    "gbt_totalNoPredictions = (results_gbt.count())\n",
    "\n",
    "\n",
    "print('Number of Correct Predictions: {}'.format(gbt_TP))\n",
    "print('Total Number of Predictions {}'.format(gbt_totalNoPredictions))\n",
    "print('Accuracy {:.4f}'.format(gbt_TP/gbt_totalNoPredictions))"
   ]
  },
  {
   "cell_type": "code",
   "execution_count": 190,
   "metadata": {},
   "outputs": [
    {
     "name": "stdout",
     "output_type": "stream",
     "text": [
      "F1-score: 0.8513\n"
     ]
    }
   ],
   "source": [
    "print('F1-score: {:.4f}'.format(evaluator.evaluate(cvModel_gbt.transform(validation))))"
   ]
  },
  {
   "cell_type": "code",
   "execution_count": 191,
   "metadata": {},
   "outputs": [],
   "source": [
    "modeling_summary['gbt'] = (gbt_TP/gbt_totalNoPredictions, evaluator.evaluate(cvModel_gbt.transform(validation)))"
   ]
  },
  {
   "cell_type": "markdown",
   "metadata": {},
   "source": [
    "## Linear Support Vector Machine <a id='lsv'></a>"
   ]
  },
  {
   "cell_type": "code",
   "execution_count": 192,
   "metadata": {},
   "outputs": [],
   "source": [
    "svm = LinearSVC(labelCol='fully_cancelled')\n",
    "pipeline_svm = Pipeline(stages=[assembler, scaler, svm])"
   ]
  },
  {
   "cell_type": "code",
   "execution_count": 193,
   "metadata": {},
   "outputs": [],
   "source": [
    "paramgrid_svm =ParamGridBuilder()\\\n",
    ".build()\n",
    "\n",
    "evaluator = MulticlassClassificationEvaluator(metricName=\"f1\", labelCol='fully_cancelled')\n",
    "\n",
    "crossval = CrossValidator(estimator=pipeline_svm,  \n",
    "                          estimatorParamMaps=paramgrid_svm,\n",
    "                          evaluator=evaluator, \n",
    "                          numFolds=3)"
   ]
  },
  {
   "cell_type": "code",
   "execution_count": 194,
   "metadata": {},
   "outputs": [
    {
     "name": "stderr",
     "output_type": "stream",
     "text": [
      "\r",
      "[Stage 11788:=================================================> (194 + 6) / 200]\r",
      "\r",
      "                                                                                \r"
     ]
    }
   ],
   "source": [
    "cvModel_svm=crossval.fit(rest)"
   ]
  },
  {
   "cell_type": "code",
   "execution_count": 195,
   "metadata": {},
   "outputs": [],
   "source": [
    "results_svm = cvModel_svm.transform(validation)"
   ]
  },
  {
   "cell_type": "markdown",
   "metadata": {},
   "source": [
    "### Accuracy of Linear Support Vector Machine Model"
   ]
  },
  {
   "cell_type": "code",
   "execution_count": 196,
   "metadata": {},
   "outputs": [
    {
     "name": "stdout",
     "output_type": "stream",
     "text": [
      "Number of Correct Predictions: 23\n",
      "Total Number of Predictions 35\n",
      "Accuracy 0.6571\n"
     ]
    }
   ],
   "source": [
    "smv_TP = (results_svm.filter(results_svm.fully_cancelled == results_svm.prediction).count())\n",
    "smv_totalNoPredictions = (results_svm.count())\n",
    "\n",
    "print('Number of Correct Predictions: {}'.format(smv_TP))\n",
    "print('Total Number of Predictions {}'.format(smv_totalNoPredictions))\n",
    "print('Accuracy {:.4f}'.format(smv_TP/smv_totalNoPredictions))"
   ]
  },
  {
   "cell_type": "code",
   "execution_count": 197,
   "metadata": {},
   "outputs": [
    {
     "name": "stdout",
     "output_type": "stream",
     "text": [
      "F1-score: 0.5212\n"
     ]
    }
   ],
   "source": [
    "print('F1-score: {:.4f}'.format(evaluator.evaluate(cvModel_svm.transform(validation))))"
   ]
  },
  {
   "cell_type": "code",
   "execution_count": 198,
   "metadata": {},
   "outputs": [],
   "source": [
    "modeling_summary['svm'] = smv_TP/smv_totalNoPredictions, evaluator.evaluate(cvModel_svm.transform(validation))"
   ]
  },
  {
   "cell_type": "markdown",
   "metadata": {},
   "source": [
    "# Summary "
   ]
  },
  {
   "cell_type": "code",
   "execution_count": 199,
   "metadata": {},
   "outputs": [
    {
     "data": {
      "text/html": [
       "<div>\n",
       "<style scoped>\n",
       "    .dataframe tbody tr th:only-of-type {\n",
       "        vertical-align: middle;\n",
       "    }\n",
       "\n",
       "    .dataframe tbody tr th {\n",
       "        vertical-align: top;\n",
       "    }\n",
       "\n",
       "    .dataframe thead th {\n",
       "        text-align: right;\n",
       "    }\n",
       "</style>\n",
       "<table border=\"1\" class=\"dataframe\">\n",
       "  <thead>\n",
       "    <tr style=\"text-align: right;\">\n",
       "      <th></th>\n",
       "      <th>accuracy</th>\n",
       "      <th>f1-score</th>\n",
       "    </tr>\n",
       "  </thead>\n",
       "  <tbody>\n",
       "    <tr>\n",
       "      <th>lrm</th>\n",
       "      <td>0.6571</td>\n",
       "      <td>0.5212</td>\n",
       "    </tr>\n",
       "    <tr>\n",
       "      <th>rfc</th>\n",
       "      <td>0.8000</td>\n",
       "      <td>0.7720</td>\n",
       "    </tr>\n",
       "    <tr>\n",
       "      <th>gbt</th>\n",
       "      <td>0.8571</td>\n",
       "      <td>0.8513</td>\n",
       "    </tr>\n",
       "    <tr>\n",
       "      <th>svm</th>\n",
       "      <td>0.6571</td>\n",
       "      <td>0.5212</td>\n",
       "    </tr>\n",
       "  </tbody>\n",
       "</table>\n",
       "</div>"
      ],
      "text/plain": [
       "     accuracy  f1-score\n",
       "lrm    0.6571    0.5212\n",
       "rfc    0.8000    0.7720\n",
       "gbt    0.8571    0.8513\n",
       "svm    0.6571    0.5212"
      ]
     },
     "execution_count": 199,
     "metadata": {},
     "output_type": "execute_result"
    }
   ],
   "source": [
    "df_summary = pd.DataFrame.from_dict(modeling_summary, orient='index', columns=['accuracy', 'f1-score'])\n",
    "df_summary.round(4)"
   ]
  },
  {
   "cell_type": "code",
   "execution_count": 160,
   "metadata": {},
   "outputs": [
    {
     "data": {
      "image/png": "[encoded data removed]",
      "text/plain": [
       "<Figure size 576x360 with 1 Axes>"
      ]
     },
     "metadata": {
      "needs_background": "light"
     },
     "output_type": "display_data"
    }
   ],
   "source": [
    "ax = df_summary.plot(y=[\"accuracy\", \"f1-score\"], kind=\"bar\", rot=0, figsize=(8,5), title='Model Performance Evaluation')"
   ]
  },
  {
   "cell_type": "code",
   "execution_count": null,
   "metadata": {},
   "outputs": [],
   "source": []
  }
 ],
 "metadata": {
  "kernelspec": {
   "display_name": "Python 3 (ipykernel)",
   "language": "python",
   "name": "python3"
  },
  "language_info": {
   "codemirror_mode": {
    "name": "ipython",
    "version": 3
   },
   "file_extension": ".py",
   "mimetype": "text/x-python",
   "name": "python",
   "nbconvert_exporter": "python",
   "pygments_lexer": "ipython3",
   "version": "3.10.9"
  }
 },
 "nbformat": 4,
 "nbformat_minor": 1
}
